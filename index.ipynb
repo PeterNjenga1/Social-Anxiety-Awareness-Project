{
 "cells": [
  {
   "cell_type": "markdown",
   "id": "a5a924f9",
   "metadata": {},
   "source": [
    "# SOCIAL ANXIETY PREVENTION RECOMMENDER"
   ]
  },
  {
   "cell_type": "markdown",
   "id": "f9bd7e17",
   "metadata": {},
   "source": [
    "## PROBLEM STATEMENT \n",
    "\n",
    "With over 5 million Kenyans struggling with anxiety disorders, MindGuard revolutionizes mental health through an intelligent early-warning system. Using Feedforward Neural Networks to interpret complex behavioral patterns, MindGuard detects anxiety risks and delivers personalized preventative interventions, helping individuals maintain optimal mental wellness before clinical intervention becomes necessary."
   ]
  },
  {
   "cell_type": "markdown",
   "id": "1af8fd3d",
   "metadata": {},
   "source": [
    "## OBJECTIVES\n",
    "\n",
    "1. Can we create an intelligent early-warning system that accurately predicts who is likely to experience anxiety problems, allowing for timely prevention and support?\n",
    "\n",
    "2. How can we provide personalized lifestyle recommendations that are most likely to help individuals reduce their anxiety risk based on their unique profile?\n",
    "\n",
    "3. Which lifestyle factors have the biggest impact on anxiety and how can these insights guide effective prevention strategies and public health initiatives?\n",
    "\n",
    "\n"
   ]
  },
  {
   "cell_type": "markdown",
   "id": "6b57c334",
   "metadata": {},
   "source": [
    "## PLAN OF EXECUTION\n",
    "\n",
    "- EDA \n",
    "- PREPROCESSING\n",
    "- MODEL BUILDING\n",
    "- MODEL INTERPRETATION \n",
    "- DEPLOYMENT\n",
    "\n"
   ]
  },
  {
   "cell_type": "markdown",
   "id": "7ece18c7",
   "metadata": {},
   "source": [
    "## EDA AND PREPROCESSING"
   ]
  },
  {
   "cell_type": "markdown",
   "id": "70a5ac38",
   "metadata": {},
   "source": [
    "### Load Dataset"
   ]
  },
  {
   "cell_type": "code",
   "execution_count": 114,
   "id": "76ff23e3",
   "metadata": {},
   "outputs": [],
   "source": [
    "#import needed libraries and load datasets to be used\n",
    "import pandas as pd\n",
    "from sklearn.pipeline import Pipeline\n",
    "from sklearn.compose import ColumnTransformer\n",
    "from sklearn.preprocessing import StandardScaler\n",
    "from sklearn.model_selection import train_test_split, GridSearchCV, StratifiedKFold\n",
    "from sklearn.ensemble import RandomForestClassifier\n",
    "from sklearn.model_selection import GridSearchCV\n",
    "import matplotlib.pyplot as plt\n",
    "from sklearn.tree import DecisionTreeClassifier\n",
    "from sklearn.preprocessing import OneHotEncoder\n",
    "from sklearn.impute import SimpleImputer\n",
    "from sklearn.preprocessing import MinMaxScaler\n",
    "from sklearn.metrics import classification_report, accuracy_score\n",
    "from sklearn.ensemble import RandomForestClassifier\n",
    "from sklearn.feature_selection import SelectFromModel\n",
    "\n",
    "\n",
    "enhanced_data = pd.read_csv('enhanced_anxiety_dataset.csv')\n",
    "family_data = pd.read_csv('family_anxiety_14_dataset.csv')\n",
    "\n"
   ]
  },
  {
   "cell_type": "markdown",
   "id": "30b4f392",
   "metadata": {},
   "source": [
    "### Perusing Data\n",
    "\n",
    "Undersatanding what the data entails, conduct eda and preprocessing on the dataset"
   ]
  },
  {
   "cell_type": "code",
   "execution_count": 115,
   "id": "5b8f46e9",
   "metadata": {},
   "outputs": [
    {
     "data": {
      "text/html": [
       "<div>\n",
       "<style scoped>\n",
       "    .dataframe tbody tr th:only-of-type {\n",
       "        vertical-align: middle;\n",
       "    }\n",
       "\n",
       "    .dataframe tbody tr th {\n",
       "        vertical-align: top;\n",
       "    }\n",
       "\n",
       "    .dataframe thead th {\n",
       "        text-align: right;\n",
       "    }\n",
       "</style>\n",
       "<table border=\"1\" class=\"dataframe\">\n",
       "  <thead>\n",
       "    <tr style=\"text-align: right;\">\n",
       "      <th></th>\n",
       "      <th>Age</th>\n",
       "      <th>Gender</th>\n",
       "      <th>Occupation</th>\n",
       "      <th>Sleep Hours</th>\n",
       "      <th>Physical Activity (hrs/week)</th>\n",
       "      <th>Caffeine Intake (mg/day)</th>\n",
       "      <th>Alcohol Consumption (drinks/week)</th>\n",
       "      <th>Smoking</th>\n",
       "      <th>Family History of Anxiety</th>\n",
       "      <th>Stress Level (1-10)</th>\n",
       "      <th>Heart Rate (bpm)</th>\n",
       "      <th>Breathing Rate (breaths/min)</th>\n",
       "      <th>Sweating Level (1-5)</th>\n",
       "      <th>Dizziness</th>\n",
       "      <th>Medication</th>\n",
       "      <th>Therapy Sessions (per month)</th>\n",
       "      <th>Recent Major Life Event</th>\n",
       "      <th>Diet Quality (1-10)</th>\n",
       "      <th>Anxiety Level (1-10)</th>\n",
       "    </tr>\n",
       "  </thead>\n",
       "  <tbody>\n",
       "    <tr>\n",
       "      <th>0</th>\n",
       "      <td>29</td>\n",
       "      <td>Female</td>\n",
       "      <td>Artist</td>\n",
       "      <td>6.0</td>\n",
       "      <td>2.7</td>\n",
       "      <td>181</td>\n",
       "      <td>10</td>\n",
       "      <td>Yes</td>\n",
       "      <td>No</td>\n",
       "      <td>10</td>\n",
       "      <td>114</td>\n",
       "      <td>14</td>\n",
       "      <td>4</td>\n",
       "      <td>No</td>\n",
       "      <td>Yes</td>\n",
       "      <td>3</td>\n",
       "      <td>Yes</td>\n",
       "      <td>7</td>\n",
       "      <td>5.0</td>\n",
       "    </tr>\n",
       "    <tr>\n",
       "      <th>1</th>\n",
       "      <td>46</td>\n",
       "      <td>Other</td>\n",
       "      <td>Nurse</td>\n",
       "      <td>6.2</td>\n",
       "      <td>5.7</td>\n",
       "      <td>200</td>\n",
       "      <td>8</td>\n",
       "      <td>Yes</td>\n",
       "      <td>Yes</td>\n",
       "      <td>1</td>\n",
       "      <td>62</td>\n",
       "      <td>23</td>\n",
       "      <td>2</td>\n",
       "      <td>Yes</td>\n",
       "      <td>No</td>\n",
       "      <td>2</td>\n",
       "      <td>No</td>\n",
       "      <td>8</td>\n",
       "      <td>3.0</td>\n",
       "    </tr>\n",
       "    <tr>\n",
       "      <th>2</th>\n",
       "      <td>64</td>\n",
       "      <td>Male</td>\n",
       "      <td>Other</td>\n",
       "      <td>5.0</td>\n",
       "      <td>3.7</td>\n",
       "      <td>117</td>\n",
       "      <td>4</td>\n",
       "      <td>No</td>\n",
       "      <td>Yes</td>\n",
       "      <td>1</td>\n",
       "      <td>91</td>\n",
       "      <td>28</td>\n",
       "      <td>3</td>\n",
       "      <td>No</td>\n",
       "      <td>No</td>\n",
       "      <td>1</td>\n",
       "      <td>Yes</td>\n",
       "      <td>1</td>\n",
       "      <td>1.0</td>\n",
       "    </tr>\n",
       "    <tr>\n",
       "      <th>3</th>\n",
       "      <td>20</td>\n",
       "      <td>Female</td>\n",
       "      <td>Scientist</td>\n",
       "      <td>5.8</td>\n",
       "      <td>2.8</td>\n",
       "      <td>360</td>\n",
       "      <td>6</td>\n",
       "      <td>Yes</td>\n",
       "      <td>No</td>\n",
       "      <td>4</td>\n",
       "      <td>86</td>\n",
       "      <td>17</td>\n",
       "      <td>3</td>\n",
       "      <td>No</td>\n",
       "      <td>No</td>\n",
       "      <td>0</td>\n",
       "      <td>No</td>\n",
       "      <td>1</td>\n",
       "      <td>2.0</td>\n",
       "    </tr>\n",
       "    <tr>\n",
       "      <th>4</th>\n",
       "      <td>49</td>\n",
       "      <td>Female</td>\n",
       "      <td>Other</td>\n",
       "      <td>8.2</td>\n",
       "      <td>2.3</td>\n",
       "      <td>247</td>\n",
       "      <td>4</td>\n",
       "      <td>Yes</td>\n",
       "      <td>No</td>\n",
       "      <td>1</td>\n",
       "      <td>98</td>\n",
       "      <td>19</td>\n",
       "      <td>4</td>\n",
       "      <td>Yes</td>\n",
       "      <td>Yes</td>\n",
       "      <td>1</td>\n",
       "      <td>No</td>\n",
       "      <td>3</td>\n",
       "      <td>1.0</td>\n",
       "    </tr>\n",
       "  </tbody>\n",
       "</table>\n",
       "</div>"
      ],
      "text/plain": [
       "   Age  Gender Occupation  Sleep Hours  Physical Activity (hrs/week)  \\\n",
       "0   29  Female     Artist          6.0                           2.7   \n",
       "1   46   Other      Nurse          6.2                           5.7   \n",
       "2   64    Male      Other          5.0                           3.7   \n",
       "3   20  Female  Scientist          5.8                           2.8   \n",
       "4   49  Female      Other          8.2                           2.3   \n",
       "\n",
       "   Caffeine Intake (mg/day)  Alcohol Consumption (drinks/week) Smoking  \\\n",
       "0                       181                                 10     Yes   \n",
       "1                       200                                  8     Yes   \n",
       "2                       117                                  4      No   \n",
       "3                       360                                  6     Yes   \n",
       "4                       247                                  4     Yes   \n",
       "\n",
       "  Family History of Anxiety  Stress Level (1-10)  Heart Rate (bpm)  \\\n",
       "0                        No                   10               114   \n",
       "1                       Yes                    1                62   \n",
       "2                       Yes                    1                91   \n",
       "3                        No                    4                86   \n",
       "4                        No                    1                98   \n",
       "\n",
       "   Breathing Rate (breaths/min)  Sweating Level (1-5) Dizziness Medication  \\\n",
       "0                            14                     4        No        Yes   \n",
       "1                            23                     2       Yes         No   \n",
       "2                            28                     3        No         No   \n",
       "3                            17                     3        No         No   \n",
       "4                            19                     4       Yes        Yes   \n",
       "\n",
       "   Therapy Sessions (per month) Recent Major Life Event  Diet Quality (1-10)  \\\n",
       "0                             3                     Yes                    7   \n",
       "1                             2                      No                    8   \n",
       "2                             1                     Yes                    1   \n",
       "3                             0                      No                    1   \n",
       "4                             1                      No                    3   \n",
       "\n",
       "   Anxiety Level (1-10)  \n",
       "0                   5.0  \n",
       "1                   3.0  \n",
       "2                   1.0  \n",
       "3                   2.0  \n",
       "4                   1.0  "
      ]
     },
     "execution_count": 115,
     "metadata": {},
     "output_type": "execute_result"
    }
   ],
   "source": [
    "#Print first rows of enhanced anxiety dataset\n",
    "enhanced_data.head()\n"
   ]
  },
  {
   "cell_type": "code",
   "execution_count": 116,
   "id": "19fbf8c6",
   "metadata": {},
   "outputs": [
    {
     "name": "stdout",
     "output_type": "stream",
     "text": [
      "<class 'pandas.core.frame.DataFrame'>\n",
      "RangeIndex: 11000 entries, 0 to 10999\n",
      "Data columns (total 19 columns):\n",
      " #   Column                             Non-Null Count  Dtype  \n",
      "---  ------                             --------------  -----  \n",
      " 0   Age                                11000 non-null  int64  \n",
      " 1   Gender                             11000 non-null  object \n",
      " 2   Occupation                         11000 non-null  object \n",
      " 3   Sleep Hours                        11000 non-null  float64\n",
      " 4   Physical Activity (hrs/week)       11000 non-null  float64\n",
      " 5   Caffeine Intake (mg/day)           11000 non-null  int64  \n",
      " 6   Alcohol Consumption (drinks/week)  11000 non-null  int64  \n",
      " 7   Smoking                            11000 non-null  object \n",
      " 8   Family History of Anxiety          11000 non-null  object \n",
      " 9   Stress Level (1-10)                11000 non-null  int64  \n",
      " 10  Heart Rate (bpm)                   11000 non-null  int64  \n",
      " 11  Breathing Rate (breaths/min)       11000 non-null  int64  \n",
      " 12  Sweating Level (1-5)               11000 non-null  int64  \n",
      " 13  Dizziness                          11000 non-null  object \n",
      " 14  Medication                         11000 non-null  object \n",
      " 15  Therapy Sessions (per month)       11000 non-null  int64  \n",
      " 16  Recent Major Life Event            11000 non-null  object \n",
      " 17  Diet Quality (1-10)                11000 non-null  int64  \n",
      " 18  Anxiety Level (1-10)               11000 non-null  float64\n",
      "dtypes: float64(3), int64(9), object(7)\n",
      "memory usage: 1.6+ MB\n"
     ]
    }
   ],
   "source": [
    "#Scheme the data types of the enhanced dataset\n",
    "enhanced_data.info()"
   ]
  },
  {
   "cell_type": "code",
   "execution_count": 117,
   "id": "ff65465d",
   "metadata": {},
   "outputs": [
    {
     "data": {
      "text/html": [
       "<div>\n",
       "<style scoped>\n",
       "    .dataframe tbody tr th:only-of-type {\n",
       "        vertical-align: middle;\n",
       "    }\n",
       "\n",
       "    .dataframe tbody tr th {\n",
       "        vertical-align: top;\n",
       "    }\n",
       "\n",
       "    .dataframe thead th {\n",
       "        text-align: right;\n",
       "    }\n",
       "</style>\n",
       "<table border=\"1\" class=\"dataframe\">\n",
       "  <thead>\n",
       "    <tr style=\"text-align: right;\">\n",
       "      <th></th>\n",
       "      <th>Age</th>\n",
       "      <th>Sleep Hours</th>\n",
       "      <th>Physical Activity (hrs/week)</th>\n",
       "      <th>Caffeine Intake (mg/day)</th>\n",
       "      <th>Alcohol Consumption (drinks/week)</th>\n",
       "      <th>Stress Level (1-10)</th>\n",
       "      <th>Heart Rate (bpm)</th>\n",
       "      <th>Breathing Rate (breaths/min)</th>\n",
       "      <th>Sweating Level (1-5)</th>\n",
       "      <th>Therapy Sessions (per month)</th>\n",
       "      <th>Diet Quality (1-10)</th>\n",
       "      <th>Anxiety Level (1-10)</th>\n",
       "    </tr>\n",
       "  </thead>\n",
       "  <tbody>\n",
       "    <tr>\n",
       "      <th>count</th>\n",
       "      <td>11000.000000</td>\n",
       "      <td>11000.000000</td>\n",
       "      <td>11000.000000</td>\n",
       "      <td>11000.000000</td>\n",
       "      <td>11000.000000</td>\n",
       "      <td>11000.000000</td>\n",
       "      <td>11000.000000</td>\n",
       "      <td>11000.000000</td>\n",
       "      <td>11000.000000</td>\n",
       "      <td>11000.000000</td>\n",
       "      <td>11000.000000</td>\n",
       "      <td>11000.000000</td>\n",
       "    </tr>\n",
       "    <tr>\n",
       "      <th>mean</th>\n",
       "      <td>40.241727</td>\n",
       "      <td>6.650691</td>\n",
       "      <td>2.942136</td>\n",
       "      <td>286.090000</td>\n",
       "      <td>9.701636</td>\n",
       "      <td>5.856364</td>\n",
       "      <td>90.916000</td>\n",
       "      <td>20.957545</td>\n",
       "      <td>3.080636</td>\n",
       "      <td>2.427818</td>\n",
       "      <td>5.181818</td>\n",
       "      <td>3.929364</td>\n",
       "    </tr>\n",
       "    <tr>\n",
       "      <th>std</th>\n",
       "      <td>13.236140</td>\n",
       "      <td>1.227509</td>\n",
       "      <td>1.827825</td>\n",
       "      <td>144.813157</td>\n",
       "      <td>5.689713</td>\n",
       "      <td>2.927202</td>\n",
       "      <td>17.325721</td>\n",
       "      <td>5.160107</td>\n",
       "      <td>1.398877</td>\n",
       "      <td>2.183106</td>\n",
       "      <td>2.895243</td>\n",
       "      <td>2.122533</td>\n",
       "    </tr>\n",
       "    <tr>\n",
       "      <th>min</th>\n",
       "      <td>18.000000</td>\n",
       "      <td>2.300000</td>\n",
       "      <td>0.000000</td>\n",
       "      <td>0.000000</td>\n",
       "      <td>0.000000</td>\n",
       "      <td>1.000000</td>\n",
       "      <td>60.000000</td>\n",
       "      <td>12.000000</td>\n",
       "      <td>1.000000</td>\n",
       "      <td>0.000000</td>\n",
       "      <td>1.000000</td>\n",
       "      <td>1.000000</td>\n",
       "    </tr>\n",
       "    <tr>\n",
       "      <th>25%</th>\n",
       "      <td>29.000000</td>\n",
       "      <td>5.900000</td>\n",
       "      <td>1.500000</td>\n",
       "      <td>172.000000</td>\n",
       "      <td>5.000000</td>\n",
       "      <td>3.000000</td>\n",
       "      <td>76.000000</td>\n",
       "      <td>17.000000</td>\n",
       "      <td>2.000000</td>\n",
       "      <td>1.000000</td>\n",
       "      <td>3.000000</td>\n",
       "      <td>2.000000</td>\n",
       "    </tr>\n",
       "    <tr>\n",
       "      <th>50%</th>\n",
       "      <td>40.000000</td>\n",
       "      <td>6.700000</td>\n",
       "      <td>2.800000</td>\n",
       "      <td>273.000000</td>\n",
       "      <td>10.000000</td>\n",
       "      <td>6.000000</td>\n",
       "      <td>92.000000</td>\n",
       "      <td>21.000000</td>\n",
       "      <td>3.000000</td>\n",
       "      <td>2.000000</td>\n",
       "      <td>5.000000</td>\n",
       "      <td>4.000000</td>\n",
       "    </tr>\n",
       "    <tr>\n",
       "      <th>75%</th>\n",
       "      <td>51.000000</td>\n",
       "      <td>7.500000</td>\n",
       "      <td>4.200000</td>\n",
       "      <td>382.000000</td>\n",
       "      <td>15.000000</td>\n",
       "      <td>8.000000</td>\n",
       "      <td>106.000000</td>\n",
       "      <td>25.000000</td>\n",
       "      <td>4.000000</td>\n",
       "      <td>4.000000</td>\n",
       "      <td>8.000000</td>\n",
       "      <td>5.000000</td>\n",
       "    </tr>\n",
       "    <tr>\n",
       "      <th>max</th>\n",
       "      <td>64.000000</td>\n",
       "      <td>11.300000</td>\n",
       "      <td>10.100000</td>\n",
       "      <td>599.000000</td>\n",
       "      <td>19.000000</td>\n",
       "      <td>10.000000</td>\n",
       "      <td>119.000000</td>\n",
       "      <td>29.000000</td>\n",
       "      <td>5.000000</td>\n",
       "      <td>12.000000</td>\n",
       "      <td>10.000000</td>\n",
       "      <td>10.000000</td>\n",
       "    </tr>\n",
       "  </tbody>\n",
       "</table>\n",
       "</div>"
      ],
      "text/plain": [
       "                Age   Sleep Hours  Physical Activity (hrs/week)  \\\n",
       "count  11000.000000  11000.000000                  11000.000000   \n",
       "mean      40.241727      6.650691                      2.942136   \n",
       "std       13.236140      1.227509                      1.827825   \n",
       "min       18.000000      2.300000                      0.000000   \n",
       "25%       29.000000      5.900000                      1.500000   \n",
       "50%       40.000000      6.700000                      2.800000   \n",
       "75%       51.000000      7.500000                      4.200000   \n",
       "max       64.000000     11.300000                     10.100000   \n",
       "\n",
       "       Caffeine Intake (mg/day)  Alcohol Consumption (drinks/week)  \\\n",
       "count              11000.000000                       11000.000000   \n",
       "mean                 286.090000                           9.701636   \n",
       "std                  144.813157                           5.689713   \n",
       "min                    0.000000                           0.000000   \n",
       "25%                  172.000000                           5.000000   \n",
       "50%                  273.000000                          10.000000   \n",
       "75%                  382.000000                          15.000000   \n",
       "max                  599.000000                          19.000000   \n",
       "\n",
       "       Stress Level (1-10)  Heart Rate (bpm)  Breathing Rate (breaths/min)  \\\n",
       "count         11000.000000      11000.000000                  11000.000000   \n",
       "mean              5.856364         90.916000                     20.957545   \n",
       "std               2.927202         17.325721                      5.160107   \n",
       "min               1.000000         60.000000                     12.000000   \n",
       "25%               3.000000         76.000000                     17.000000   \n",
       "50%               6.000000         92.000000                     21.000000   \n",
       "75%               8.000000        106.000000                     25.000000   \n",
       "max              10.000000        119.000000                     29.000000   \n",
       "\n",
       "       Sweating Level (1-5)  Therapy Sessions (per month)  \\\n",
       "count          11000.000000                  11000.000000   \n",
       "mean               3.080636                      2.427818   \n",
       "std                1.398877                      2.183106   \n",
       "min                1.000000                      0.000000   \n",
       "25%                2.000000                      1.000000   \n",
       "50%                3.000000                      2.000000   \n",
       "75%                4.000000                      4.000000   \n",
       "max                5.000000                     12.000000   \n",
       "\n",
       "       Diet Quality (1-10)  Anxiety Level (1-10)  \n",
       "count         11000.000000          11000.000000  \n",
       "mean              5.181818              3.929364  \n",
       "std               2.895243              2.122533  \n",
       "min               1.000000              1.000000  \n",
       "25%               3.000000              2.000000  \n",
       "50%               5.000000              4.000000  \n",
       "75%               8.000000              5.000000  \n",
       "max              10.000000             10.000000  "
      ]
     },
     "execution_count": 117,
     "metadata": {},
     "output_type": "execute_result"
    }
   ],
   "source": [
    "#Summary stats for enhanced dataset\n",
    "enhanced_data.describe()"
   ]
  },
  {
   "cell_type": "code",
   "execution_count": 118,
   "id": "8f869d66",
   "metadata": {},
   "outputs": [
    {
     "data": {
      "text/plain": [
       "Age                                  0\n",
       "Gender                               0\n",
       "Occupation                           0\n",
       "Sleep Hours                          0\n",
       "Physical Activity (hrs/week)         0\n",
       "Caffeine Intake (mg/day)             0\n",
       "Alcohol Consumption (drinks/week)    0\n",
       "Smoking                              0\n",
       "Family History of Anxiety            0\n",
       "Stress Level (1-10)                  0\n",
       "Heart Rate (bpm)                     0\n",
       "Breathing Rate (breaths/min)         0\n",
       "Sweating Level (1-5)                 0\n",
       "Dizziness                            0\n",
       "Medication                           0\n",
       "Therapy Sessions (per month)         0\n",
       "Recent Major Life Event              0\n",
       "Diet Quality (1-10)                  0\n",
       "Anxiety Level (1-10)                 0\n",
       "dtype: int64"
      ]
     },
     "execution_count": 118,
     "metadata": {},
     "output_type": "execute_result"
    }
   ],
   "source": [
    "#Check for missing values\n",
    "enhanced_data.isnull().sum()"
   ]
  },
  {
   "cell_type": "code",
   "execution_count": 119,
   "id": "48818ca4",
   "metadata": {},
   "outputs": [],
   "source": [
    "#Split data into features and target variable\n",
    "\n",
    "X = enhanced_data.drop(columns='Anxiety Level (1-10)')\n",
    "y = enhanced_data['Anxiety Level (1-10)']\n",
    "\n",
    "#Split the data into training and testing sets\n",
    "X_train,X_test,y_train,y_test = train_test_split(X,y, test_size=0.2, random_state=42, stratify=y)"
   ]
  },
  {
   "cell_type": "code",
   "execution_count": 120,
   "id": "a0750452",
   "metadata": {},
   "outputs": [],
   "source": [
    "#Identify Categorical and numerical features\n",
    "categorical_features = X_train.select_dtypes(include=['object']).columns\n",
    "num_features = X_train.select_dtypes(include=['int64', 'float64']).columns"
   ]
  },
  {
   "cell_type": "code",
   "execution_count": 121,
   "id": "f62d9eef",
   "metadata": {},
   "outputs": [],
   "source": [
    "# Define preprocessing steps for numerical and categorical features\n",
    "\n",
    "\n",
    "preprocessing = ColumnTransformer(\n",
    "    transformers=[ ('num', StandardScaler(), num_features),\n",
    "        ('cat', OneHotEncoder(handle_unknown='ignore'), categorical_features)\n",
    "    ],\n",
    ")\n",
    "\n",
    "# Create a pipeline with preprocessing and classifier\n",
    "pipeline = Pipeline([\n",
    "\t('preprocessing', preprocessing),\n",
    "\t('classifier', RandomForestClassifier(random_state=42, class_weight= 'balanced'))\n",
    "])\n",
    "\n"
   ]
  },
  {
   "cell_type": "code",
   "execution_count": 122,
   "id": "aec07e57",
   "metadata": {},
   "outputs": [
    {
     "data": {
      "text/plain": [
       "0.3513636363636364"
      ]
     },
     "execution_count": 122,
     "metadata": {},
     "output_type": "execute_result"
    }
   ],
   "source": [
    "#Fit the pipeline to the training data\n",
    "pipeline.fit(X_train,y_train)\n",
    "\n",
    "#Test predictions and evaluate the model\n",
    "y_pred = pipeline.predict(X_test)\n",
    "test_accuracy = accuracy_score(y_test,y_pred)\n",
    "test_accuracy"
   ]
  },
  {
   "cell_type": "code",
   "execution_count": 123,
   "id": "64e50a94",
   "metadata": {},
   "outputs": [
    {
     "data": {
      "text/plain": [
       "Anxiety Level (1-10)\n",
       "4.0     2416\n",
       "3.0     2407\n",
       "2.0     1756\n",
       "5.0     1629\n",
       "1.0     1039\n",
       "6.0      616\n",
       "8.0      363\n",
       "9.0      329\n",
       "10.0     322\n",
       "7.0      123\n",
       "Name: count, dtype: int64"
      ]
     },
     "execution_count": 123,
     "metadata": {},
     "output_type": "execute_result"
    }
   ],
   "source": [
    "y.value_counts()"
   ]
  },
  {
   "cell_type": "code",
   "execution_count": 124,
   "id": "b05d74d7",
   "metadata": {},
   "outputs": [
    {
     "name": "stdout",
     "output_type": "stream",
     "text": [
      "Fitting 3 folds for each of 10 candidates, totalling 30 fits\n"
     ]
    },
    {
     "data": {
      "text/html": [
       "<style>#sk-container-id-8 {color: black;background-color: white;}#sk-container-id-8 pre{padding: 0;}#sk-container-id-8 div.sk-toggleable {background-color: white;}#sk-container-id-8 label.sk-toggleable__label {cursor: pointer;display: block;width: 100%;margin-bottom: 0;padding: 0.3em;box-sizing: border-box;text-align: center;}#sk-container-id-8 label.sk-toggleable__label-arrow:before {content: \"▸\";float: left;margin-right: 0.25em;color: #696969;}#sk-container-id-8 label.sk-toggleable__label-arrow:hover:before {color: black;}#sk-container-id-8 div.sk-estimator:hover label.sk-toggleable__label-arrow:before {color: black;}#sk-container-id-8 div.sk-toggleable__content {max-height: 0;max-width: 0;overflow: hidden;text-align: left;background-color: #f0f8ff;}#sk-container-id-8 div.sk-toggleable__content pre {margin: 0.2em;color: black;border-radius: 0.25em;background-color: #f0f8ff;}#sk-container-id-8 input.sk-toggleable__control:checked~div.sk-toggleable__content {max-height: 200px;max-width: 100%;overflow: auto;}#sk-container-id-8 input.sk-toggleable__control:checked~label.sk-toggleable__label-arrow:before {content: \"▾\";}#sk-container-id-8 div.sk-estimator input.sk-toggleable__control:checked~label.sk-toggleable__label {background-color: #d4ebff;}#sk-container-id-8 div.sk-label input.sk-toggleable__control:checked~label.sk-toggleable__label {background-color: #d4ebff;}#sk-container-id-8 input.sk-hidden--visually {border: 0;clip: rect(1px 1px 1px 1px);clip: rect(1px, 1px, 1px, 1px);height: 1px;margin: -1px;overflow: hidden;padding: 0;position: absolute;width: 1px;}#sk-container-id-8 div.sk-estimator {font-family: monospace;background-color: #f0f8ff;border: 1px dotted black;border-radius: 0.25em;box-sizing: border-box;margin-bottom: 0.5em;}#sk-container-id-8 div.sk-estimator:hover {background-color: #d4ebff;}#sk-container-id-8 div.sk-parallel-item::after {content: \"\";width: 100%;border-bottom: 1px solid gray;flex-grow: 1;}#sk-container-id-8 div.sk-label:hover label.sk-toggleable__label {background-color: #d4ebff;}#sk-container-id-8 div.sk-serial::before {content: \"\";position: absolute;border-left: 1px solid gray;box-sizing: border-box;top: 0;bottom: 0;left: 50%;z-index: 0;}#sk-container-id-8 div.sk-serial {display: flex;flex-direction: column;align-items: center;background-color: white;padding-right: 0.2em;padding-left: 0.2em;position: relative;}#sk-container-id-8 div.sk-item {position: relative;z-index: 1;}#sk-container-id-8 div.sk-parallel {display: flex;align-items: stretch;justify-content: center;background-color: white;position: relative;}#sk-container-id-8 div.sk-item::before, #sk-container-id-8 div.sk-parallel-item::before {content: \"\";position: absolute;border-left: 1px solid gray;box-sizing: border-box;top: 0;bottom: 0;left: 50%;z-index: -1;}#sk-container-id-8 div.sk-parallel-item {display: flex;flex-direction: column;z-index: 1;position: relative;background-color: white;}#sk-container-id-8 div.sk-parallel-item:first-child::after {align-self: flex-end;width: 50%;}#sk-container-id-8 div.sk-parallel-item:last-child::after {align-self: flex-start;width: 50%;}#sk-container-id-8 div.sk-parallel-item:only-child::after {width: 0;}#sk-container-id-8 div.sk-dashed-wrapped {border: 1px dashed gray;margin: 0 0.4em 0.5em 0.4em;box-sizing: border-box;padding-bottom: 0.4em;background-color: white;}#sk-container-id-8 div.sk-label label {font-family: monospace;font-weight: bold;display: inline-block;line-height: 1.2em;}#sk-container-id-8 div.sk-label-container {text-align: center;}#sk-container-id-8 div.sk-container {/* jupyter's `normalize.less` sets `[hidden] { display: none; }` but bootstrap.min.css set `[hidden] { display: none !important; }` so we also need the `!important` here to be able to override the default hidden behavior on the sphinx rendered scikit-learn.org. See: https://github.com/scikit-learn/scikit-learn/issues/21755 */display: inline-block !important;position: relative;}#sk-container-id-8 div.sk-text-repr-fallback {display: none;}</style><div id=\"sk-container-id-8\" class=\"sk-top-container\"><div class=\"sk-text-repr-fallback\"><pre>RandomizedSearchCV(cv=3,\n",
       "                   estimator=Pipeline(steps=[(&#x27;preprocessing&#x27;,\n",
       "                                              ColumnTransformer(transformers=[(&#x27;num&#x27;,\n",
       "                                                                               StandardScaler(),\n",
       "                                                                               Index([&#x27;Age&#x27;, &#x27;Sleep Hours&#x27;, &#x27;Physical Activity (hrs/week)&#x27;,\n",
       "       &#x27;Caffeine Intake (mg/day)&#x27;, &#x27;Alcohol Consumption (drinks/week)&#x27;,\n",
       "       &#x27;Stress Level (1-10)&#x27;, &#x27;Heart Rate (bpm)&#x27;,\n",
       "       &#x27;Breathing Rate (breaths/min)&#x27;, &#x27;Sweating Level (1-5)&#x27;,\n",
       "       &#x27;Therapy Sessions (per month)...\n",
       "      dtype=&#x27;object&#x27;))])),\n",
       "                                             (&#x27;classifier&#x27;,\n",
       "                                              RandomForestClassifier(class_weight=&#x27;balanced&#x27;,\n",
       "                                                                     random_state=42))]),\n",
       "                   n_jobs=1,\n",
       "                   param_distributions={&#x27;classifier__max_depth&#x27;: [None, 10, 20],\n",
       "                                        &#x27;classifier__max_features&#x27;: [&#x27;sqrt&#x27;,\n",
       "                                                                     &#x27;log2&#x27;,\n",
       "                                                                     None],\n",
       "                                        &#x27;classifier__min_samples_leaf&#x27;: [1, 2,\n",
       "                                                                         4],\n",
       "                                        &#x27;classifier__min_samples_split&#x27;: [2, 5,\n",
       "                                                                          10],\n",
       "                                        &#x27;classifier__n_estimators&#x27;: [50, 100,\n",
       "                                                                     200]},\n",
       "                   scoring=&#x27;f1_weighted&#x27;, verbose=1)</pre><b>In a Jupyter environment, please rerun this cell to show the HTML representation or trust the notebook. <br />On GitHub, the HTML representation is unable to render, please try loading this page with nbviewer.org.</b></div><div class=\"sk-container\" hidden><div class=\"sk-item sk-dashed-wrapped\"><div class=\"sk-label-container\"><div class=\"sk-label sk-toggleable\"><input class=\"sk-toggleable__control sk-hidden--visually\" id=\"sk-estimator-id-57\" type=\"checkbox\" ><label for=\"sk-estimator-id-57\" class=\"sk-toggleable__label sk-toggleable__label-arrow\">RandomizedSearchCV</label><div class=\"sk-toggleable__content\"><pre>RandomizedSearchCV(cv=3,\n",
       "                   estimator=Pipeline(steps=[(&#x27;preprocessing&#x27;,\n",
       "                                              ColumnTransformer(transformers=[(&#x27;num&#x27;,\n",
       "                                                                               StandardScaler(),\n",
       "                                                                               Index([&#x27;Age&#x27;, &#x27;Sleep Hours&#x27;, &#x27;Physical Activity (hrs/week)&#x27;,\n",
       "       &#x27;Caffeine Intake (mg/day)&#x27;, &#x27;Alcohol Consumption (drinks/week)&#x27;,\n",
       "       &#x27;Stress Level (1-10)&#x27;, &#x27;Heart Rate (bpm)&#x27;,\n",
       "       &#x27;Breathing Rate (breaths/min)&#x27;, &#x27;Sweating Level (1-5)&#x27;,\n",
       "       &#x27;Therapy Sessions (per month)...\n",
       "      dtype=&#x27;object&#x27;))])),\n",
       "                                             (&#x27;classifier&#x27;,\n",
       "                                              RandomForestClassifier(class_weight=&#x27;balanced&#x27;,\n",
       "                                                                     random_state=42))]),\n",
       "                   n_jobs=1,\n",
       "                   param_distributions={&#x27;classifier__max_depth&#x27;: [None, 10, 20],\n",
       "                                        &#x27;classifier__max_features&#x27;: [&#x27;sqrt&#x27;,\n",
       "                                                                     &#x27;log2&#x27;,\n",
       "                                                                     None],\n",
       "                                        &#x27;classifier__min_samples_leaf&#x27;: [1, 2,\n",
       "                                                                         4],\n",
       "                                        &#x27;classifier__min_samples_split&#x27;: [2, 5,\n",
       "                                                                          10],\n",
       "                                        &#x27;classifier__n_estimators&#x27;: [50, 100,\n",
       "                                                                     200]},\n",
       "                   scoring=&#x27;f1_weighted&#x27;, verbose=1)</pre></div></div></div><div class=\"sk-parallel\"><div class=\"sk-parallel-item\"><div class=\"sk-item\"><div class=\"sk-label-container\"><div class=\"sk-label sk-toggleable\"><input class=\"sk-toggleable__control sk-hidden--visually\" id=\"sk-estimator-id-58\" type=\"checkbox\" ><label for=\"sk-estimator-id-58\" class=\"sk-toggleable__label sk-toggleable__label-arrow\">estimator: Pipeline</label><div class=\"sk-toggleable__content\"><pre>Pipeline(steps=[(&#x27;preprocessing&#x27;,\n",
       "                 ColumnTransformer(transformers=[(&#x27;num&#x27;, StandardScaler(),\n",
       "                                                  Index([&#x27;Age&#x27;, &#x27;Sleep Hours&#x27;, &#x27;Physical Activity (hrs/week)&#x27;,\n",
       "       &#x27;Caffeine Intake (mg/day)&#x27;, &#x27;Alcohol Consumption (drinks/week)&#x27;,\n",
       "       &#x27;Stress Level (1-10)&#x27;, &#x27;Heart Rate (bpm)&#x27;,\n",
       "       &#x27;Breathing Rate (breaths/min)&#x27;, &#x27;Sweating Level (1-5)&#x27;,\n",
       "       &#x27;Therapy Sessions (per month)&#x27;, &#x27;Diet Quality (1-10)&#x27;],\n",
       "      dtype=&#x27;object&#x27;)),\n",
       "                                                 (&#x27;cat&#x27;,\n",
       "                                                  OneHotEncoder(handle_unknown=&#x27;ignore&#x27;),\n",
       "                                                  Index([&#x27;Gender&#x27;, &#x27;Occupation&#x27;, &#x27;Smoking&#x27;, &#x27;Family History of Anxiety&#x27;,\n",
       "       &#x27;Dizziness&#x27;, &#x27;Medication&#x27;, &#x27;Recent Major Life Event&#x27;],\n",
       "      dtype=&#x27;object&#x27;))])),\n",
       "                (&#x27;classifier&#x27;,\n",
       "                 RandomForestClassifier(class_weight=&#x27;balanced&#x27;,\n",
       "                                        random_state=42))])</pre></div></div></div><div class=\"sk-serial\"><div class=\"sk-item\"><div class=\"sk-serial\"><div class=\"sk-item sk-dashed-wrapped\"><div class=\"sk-label-container\"><div class=\"sk-label sk-toggleable\"><input class=\"sk-toggleable__control sk-hidden--visually\" id=\"sk-estimator-id-59\" type=\"checkbox\" ><label for=\"sk-estimator-id-59\" class=\"sk-toggleable__label sk-toggleable__label-arrow\">preprocessing: ColumnTransformer</label><div class=\"sk-toggleable__content\"><pre>ColumnTransformer(transformers=[(&#x27;num&#x27;, StandardScaler(),\n",
       "                                 Index([&#x27;Age&#x27;, &#x27;Sleep Hours&#x27;, &#x27;Physical Activity (hrs/week)&#x27;,\n",
       "       &#x27;Caffeine Intake (mg/day)&#x27;, &#x27;Alcohol Consumption (drinks/week)&#x27;,\n",
       "       &#x27;Stress Level (1-10)&#x27;, &#x27;Heart Rate (bpm)&#x27;,\n",
       "       &#x27;Breathing Rate (breaths/min)&#x27;, &#x27;Sweating Level (1-5)&#x27;,\n",
       "       &#x27;Therapy Sessions (per month)&#x27;, &#x27;Diet Quality (1-10)&#x27;],\n",
       "      dtype=&#x27;object&#x27;)),\n",
       "                                (&#x27;cat&#x27;, OneHotEncoder(handle_unknown=&#x27;ignore&#x27;),\n",
       "                                 Index([&#x27;Gender&#x27;, &#x27;Occupation&#x27;, &#x27;Smoking&#x27;, &#x27;Family History of Anxiety&#x27;,\n",
       "       &#x27;Dizziness&#x27;, &#x27;Medication&#x27;, &#x27;Recent Major Life Event&#x27;],\n",
       "      dtype=&#x27;object&#x27;))])</pre></div></div></div><div class=\"sk-parallel\"><div class=\"sk-parallel-item\"><div class=\"sk-item\"><div class=\"sk-label-container\"><div class=\"sk-label sk-toggleable\"><input class=\"sk-toggleable__control sk-hidden--visually\" id=\"sk-estimator-id-60\" type=\"checkbox\" ><label for=\"sk-estimator-id-60\" class=\"sk-toggleable__label sk-toggleable__label-arrow\">num</label><div class=\"sk-toggleable__content\"><pre>Index([&#x27;Age&#x27;, &#x27;Sleep Hours&#x27;, &#x27;Physical Activity (hrs/week)&#x27;,\n",
       "       &#x27;Caffeine Intake (mg/day)&#x27;, &#x27;Alcohol Consumption (drinks/week)&#x27;,\n",
       "       &#x27;Stress Level (1-10)&#x27;, &#x27;Heart Rate (bpm)&#x27;,\n",
       "       &#x27;Breathing Rate (breaths/min)&#x27;, &#x27;Sweating Level (1-5)&#x27;,\n",
       "       &#x27;Therapy Sessions (per month)&#x27;, &#x27;Diet Quality (1-10)&#x27;],\n",
       "      dtype=&#x27;object&#x27;)</pre></div></div></div><div class=\"sk-serial\"><div class=\"sk-item\"><div class=\"sk-estimator sk-toggleable\"><input class=\"sk-toggleable__control sk-hidden--visually\" id=\"sk-estimator-id-61\" type=\"checkbox\" ><label for=\"sk-estimator-id-61\" class=\"sk-toggleable__label sk-toggleable__label-arrow\">StandardScaler</label><div class=\"sk-toggleable__content\"><pre>StandardScaler()</pre></div></div></div></div></div></div><div class=\"sk-parallel-item\"><div class=\"sk-item\"><div class=\"sk-label-container\"><div class=\"sk-label sk-toggleable\"><input class=\"sk-toggleable__control sk-hidden--visually\" id=\"sk-estimator-id-62\" type=\"checkbox\" ><label for=\"sk-estimator-id-62\" class=\"sk-toggleable__label sk-toggleable__label-arrow\">cat</label><div class=\"sk-toggleable__content\"><pre>Index([&#x27;Gender&#x27;, &#x27;Occupation&#x27;, &#x27;Smoking&#x27;, &#x27;Family History of Anxiety&#x27;,\n",
       "       &#x27;Dizziness&#x27;, &#x27;Medication&#x27;, &#x27;Recent Major Life Event&#x27;],\n",
       "      dtype=&#x27;object&#x27;)</pre></div></div></div><div class=\"sk-serial\"><div class=\"sk-item\"><div class=\"sk-estimator sk-toggleable\"><input class=\"sk-toggleable__control sk-hidden--visually\" id=\"sk-estimator-id-63\" type=\"checkbox\" ><label for=\"sk-estimator-id-63\" class=\"sk-toggleable__label sk-toggleable__label-arrow\">OneHotEncoder</label><div class=\"sk-toggleable__content\"><pre>OneHotEncoder(handle_unknown=&#x27;ignore&#x27;)</pre></div></div></div></div></div></div></div></div><div class=\"sk-item\"><div class=\"sk-estimator sk-toggleable\"><input class=\"sk-toggleable__control sk-hidden--visually\" id=\"sk-estimator-id-64\" type=\"checkbox\" ><label for=\"sk-estimator-id-64\" class=\"sk-toggleable__label sk-toggleable__label-arrow\">RandomForestClassifier</label><div class=\"sk-toggleable__content\"><pre>RandomForestClassifier(class_weight=&#x27;balanced&#x27;, random_state=42)</pre></div></div></div></div></div></div></div></div></div></div></div></div>"
      ],
      "text/plain": [
       "RandomizedSearchCV(cv=3,\n",
       "                   estimator=Pipeline(steps=[('preprocessing',\n",
       "                                              ColumnTransformer(transformers=[('num',\n",
       "                                                                               StandardScaler(),\n",
       "                                                                               Index(['Age', 'Sleep Hours', 'Physical Activity (hrs/week)',\n",
       "       'Caffeine Intake (mg/day)', 'Alcohol Consumption (drinks/week)',\n",
       "       'Stress Level (1-10)', 'Heart Rate (bpm)',\n",
       "       'Breathing Rate (breaths/min)', 'Sweating Level (1-5)',\n",
       "       'Therapy Sessions (per month)...\n",
       "      dtype='object'))])),\n",
       "                                             ('classifier',\n",
       "                                              RandomForestClassifier(class_weight='balanced',\n",
       "                                                                     random_state=42))]),\n",
       "                   n_jobs=1,\n",
       "                   param_distributions={'classifier__max_depth': [None, 10, 20],\n",
       "                                        'classifier__max_features': ['sqrt',\n",
       "                                                                     'log2',\n",
       "                                                                     None],\n",
       "                                        'classifier__min_samples_leaf': [1, 2,\n",
       "                                                                         4],\n",
       "                                        'classifier__min_samples_split': [2, 5,\n",
       "                                                                          10],\n",
       "                                        'classifier__n_estimators': [50, 100,\n",
       "                                                                     200]},\n",
       "                   scoring='f1_weighted', verbose=1)"
      ]
     },
     "execution_count": 124,
     "metadata": {},
     "output_type": "execute_result"
    }
   ],
   "source": [
    "\n",
    "from sklearn.model_selection import RandomizedSearchCV\n",
    "\n",
    "# Use the correct parameter grid for the pipeline\n",
    "param_grid_pipeline = {\n",
    "\t'classifier__n_estimators': [50, 100, 200],\n",
    "\t'classifier__max_depth': [None, 10, 20],\n",
    "\t'classifier__min_samples_split': [2, 5, 10],\n",
    "\t'classifier__min_samples_leaf': [1, 2, 4],\n",
    "\t'classifier__max_features': ['sqrt', 'log2', None]\n",
    "}\n",
    "\n",
    "cv = StratifiedKFold(n_splits=3, shuffle=True, random_state=42)\n",
    "\n",
    "grid_search = RandomizedSearchCV(pipeline, param_grid_pipeline, cv=3, n_jobs=1, scoring='f1_weighted', verbose=1)\n",
    "grid_search.fit(X_train, y_train)"
   ]
  },
  {
   "cell_type": "code",
   "execution_count": 125,
   "id": "2bae72de",
   "metadata": {},
   "outputs": [
    {
     "name": "stdout",
     "output_type": "stream",
     "text": [
      "{'classifier__n_estimators': 200, 'classifier__min_samples_split': 2, 'classifier__min_samples_leaf': 2, 'classifier__max_features': 'log2', 'classifier__max_depth': 20}\n"
     ]
    }
   ],
   "source": [
    "print(grid_search.best_params_)\n"
   ]
  },
  {
   "cell_type": "code",
   "execution_count": 126,
   "id": "43205019",
   "metadata": {},
   "outputs": [
    {
     "name": "stdout",
     "output_type": "stream",
     "text": [
      "0.3337176251983862\n"
     ]
    }
   ],
   "source": [
    "print(grid_search.best_score_)"
   ]
  },
  {
   "cell_type": "markdown",
   "id": "6c778510",
   "metadata": {},
   "source": [
    "### EVALUATE THE MODEL"
   ]
  },
  {
   "cell_type": "code",
   "execution_count": 127,
   "id": "72887d3f",
   "metadata": {},
   "outputs": [],
   "source": [
    "#Get the best mode and make predictions\n",
    "best_model = grid_search.best_estimator_\n",
    "y_trian_pred = best_model.predict(X_train)\n",
    "y_test_pred = best_model.predict(X_test)\n",
    "\n"
   ]
  },
  {
   "cell_type": "code",
   "execution_count": 128,
   "id": "e2f7ee97",
   "metadata": {},
   "outputs": [
    {
     "name": "stdout",
     "output_type": "stream",
     "text": [
      "Train Accuracy:  0.9997\n",
      "Test Accuracy:  0.3514\n",
      "Difference in accuracy: 0.6483\n"
     ]
    }
   ],
   "source": [
    "#Calculate accuracies\n",
    "train_accuracy = accuracy_score(y_train,y_trian_pred)\n",
    "test_accuracy = accuracy_score(y_test,y_test_pred)\n",
    "print(f\"Train Accuracy: {train_accuracy: .4f}\")\n",
    "print(f\"Test Accuracy: {test_accuracy: .4f}\")\n",
    "print(f\"Difference in accuracy:{train_accuracy - test_accuracy: .4f}\")\n"
   ]
  },
  {
   "cell_type": "code",
   "execution_count": 129,
   "id": "6ecc57e6",
   "metadata": {},
   "outputs": [
    {
     "name": "stdout",
     "output_type": "stream",
     "text": [
      "              precision    recall  f1-score   support\n",
      "\n",
      "         1.0       0.41      0.35      0.38       208\n",
      "         2.0       0.34      0.38      0.36       351\n",
      "         3.0       0.33      0.35      0.34       481\n",
      "         4.0       0.35      0.37      0.36       483\n",
      "         5.0       0.36      0.43      0.39       326\n",
      "         6.0       0.31      0.10      0.15       123\n",
      "         7.0       0.00      0.00      0.00        25\n",
      "         8.0       0.37      0.41      0.39        73\n",
      "         9.0       0.35      0.27      0.31        66\n",
      "        10.0       0.33      0.33      0.33        64\n",
      "\n",
      "    accuracy                           0.35      2200\n",
      "   macro avg       0.31      0.30      0.30      2200\n",
      "weighted avg       0.35      0.35      0.34      2200\n",
      "\n"
     ]
    },
    {
     "name": "stderr",
     "output_type": "stream",
     "text": [
      "c:\\Users\\002401\\AppData\\Local\\anaconda3\\Lib\\site-packages\\sklearn\\metrics\\_classification.py:1344: UndefinedMetricWarning: Precision and F-score are ill-defined and being set to 0.0 in labels with no predicted samples. Use `zero_division` parameter to control this behavior.\n",
      "  _warn_prf(average, modifier, msg_start, len(result))\n",
      "c:\\Users\\002401\\AppData\\Local\\anaconda3\\Lib\\site-packages\\sklearn\\metrics\\_classification.py:1344: UndefinedMetricWarning: Precision and F-score are ill-defined and being set to 0.0 in labels with no predicted samples. Use `zero_division` parameter to control this behavior.\n",
      "  _warn_prf(average, modifier, msg_start, len(result))\n",
      "c:\\Users\\002401\\AppData\\Local\\anaconda3\\Lib\\site-packages\\sklearn\\metrics\\_classification.py:1344: UndefinedMetricWarning: Precision and F-score are ill-defined and being set to 0.0 in labels with no predicted samples. Use `zero_division` parameter to control this behavior.\n",
      "  _warn_prf(average, modifier, msg_start, len(result))\n"
     ]
    }
   ],
   "source": [
    "print(classification_report(y_test, y_test_pred))"
   ]
  },
  {
   "cell_type": "code",
   "execution_count": 130,
   "id": "dee22fc7",
   "metadata": {},
   "outputs": [
    {
     "data": {
      "image/png": "[encoded data removed]",
      "text/plain": [
       "<Figure size 640x480 with 2 Axes>"
      ]
     },
     "metadata": {},
     "output_type": "display_data"
    }
   ],
   "source": [
    "#Confusion matrix\n",
    "from sklearn.metrics import confusion_matrix, ConfusionMatrixDisplay\n",
    "import seaborn as sns\n",
    "cfm = confusion_matrix(y_test, y_pred)\n",
    "ConfusionMatrixDisplay(confusion_matrix=cfm).plot(cmap = 'Blues');"
   ]
  },
  {
   "cell_type": "code",
   "execution_count": 131,
   "id": "e009781d",
   "metadata": {},
   "outputs": [
    {
     "name": "stdout",
     "output_type": "stream",
     "text": [
      "0.3513636363636364\n"
     ]
    }
   ],
   "source": [
    "#Predict model\n",
    "best_model = grid_search.best_estimator_\n",
    "y_pred = best_model.predict(X_test)\n",
    "\n",
    "print(accuracy_score(y_test,y_pred))"
   ]
  },
  {
   "cell_type": "markdown",
   "id": "77c72b62",
   "metadata": {},
   "source": [
    "### FEATURE IMPORTANCE"
   ]
  },
  {
   "cell_type": "code",
   "execution_count": 132,
   "id": "c4669ac4",
   "metadata": {},
   "outputs": [],
   "source": [
    "#Get feature importances\n",
    "feature_names = best_model.named_steps['preprocessing'].get_feature_names_out()\n",
    "feature_importances = best_model.named_steps['classifier'].feature_importances_\n"
   ]
  },
  {
   "cell_type": "code",
   "execution_count": 133,
   "id": "57a1907d",
   "metadata": {},
   "outputs": [
    {
     "name": "stdout",
     "output_type": "stream",
     "text": [
      "Top 20 Most Important Features:\n",
      "                                   feature  importance\n",
      "5                 num__Stress Level (1-10)    0.126244\n",
      "1                         num__Sleep Hours    0.099732\n",
      "3            num__Caffeine Intake (mg/day)    0.087755\n",
      "2        num__Physical Activity (hrs/week)    0.071322\n",
      "6                    num__Heart Rate (bpm)    0.070967\n",
      "0                                 num__Age    0.066111\n",
      "9        num__Therapy Sessions (per month)    0.065367\n",
      "7        num__Breathing Rate (breaths/min)    0.056625\n",
      "10                num__Diet Quality (1-10)    0.056188\n",
      "4   num__Alcohol Consumption (drinks/week)    0.055577\n",
      "8                num__Sweating Level (1-5)    0.037417\n",
      "13                       cat__Gender_Other    0.012032\n",
      "27                         cat__Smoking_No    0.011866\n",
      "12                        cat__Gender_Male    0.011776\n",
      "36        cat__Recent Major Life Event_Yes    0.011770\n",
      "11                      cat__Gender_Female    0.011733\n",
      "33                      cat__Medication_No    0.011649\n",
      "28                        cat__Smoking_Yes    0.011488\n",
      "35         cat__Recent Major Life Event_No    0.011312\n",
      "34                     cat__Medication_Yes    0.011199\n"
     ]
    }
   ],
   "source": [
    "feature_importance_df = pd.DataFrame({\n",
    "    'feature': feature_names,\n",
    "    'importance': feature_importances\n",
    "}).sort_values('importance', ascending=False)\n",
    "\n",
    "# Display top 20 most important features\n",
    "print(\"Top 20 Most Important Features:\")\n",
    "print(feature_importance_df.head(20))"
   ]
  },
  {
   "cell_type": "code",
   "execution_count": 134,
   "id": "c1223413",
   "metadata": {},
   "outputs": [
    {
     "data": {
      "image/png": "[encoded data removed]",
      "text/plain": [
       "<Figure size 1200x800 with 1 Axes>"
      ]
     },
     "metadata": {},
     "output_type": "display_data"
    }
   ],
   "source": [
    "#Visualize feature importances\n",
    "plt.figure(figsize=(12,8))\n",
    "top_features = feature_importance_df.head(15)\n",
    "plt.barh(range(len(top_features)), top_features['importance'])\n",
    "plt.yticks(range(len(top_features)), top_features['feature'])\n",
    "plt.xlabel('Feature Importance')\n",
    "plt.title('Top 15 Feature Importances')\n",
    "plt.tight_layout()\n",
    "plt.show()"
   ]
  },
  {
   "cell_type": "code",
   "execution_count": 135,
   "id": "03a0e8cc",
   "metadata": {},
   "outputs": [
    {
     "name": "stdout",
     "output_type": "stream",
     "text": [
      "              precision    recall  f1-score   support\n",
      "\n",
      "         1.0       0.41      0.35      0.38       208\n",
      "         2.0       0.34      0.38      0.36       351\n",
      "         3.0       0.33      0.35      0.34       481\n",
      "         4.0       0.35      0.37      0.36       483\n",
      "         5.0       0.36      0.43      0.39       326\n",
      "         6.0       0.31      0.10      0.15       123\n",
      "         7.0       0.00      0.00      0.00        25\n",
      "         8.0       0.37      0.41      0.39        73\n",
      "         9.0       0.35      0.27      0.31        66\n",
      "        10.0       0.33      0.33      0.33        64\n",
      "\n",
      "    accuracy                           0.35      2200\n",
      "   macro avg       0.31      0.30      0.30      2200\n",
      "weighted avg       0.35      0.35      0.34      2200\n",
      "\n"
     ]
    },
    {
     "name": "stderr",
     "output_type": "stream",
     "text": [
      "c:\\Users\\002401\\AppData\\Local\\anaconda3\\Lib\\site-packages\\sklearn\\metrics\\_classification.py:1344: UndefinedMetricWarning: Precision and F-score are ill-defined and being set to 0.0 in labels with no predicted samples. Use `zero_division` parameter to control this behavior.\n",
      "  _warn_prf(average, modifier, msg_start, len(result))\n",
      "c:\\Users\\002401\\AppData\\Local\\anaconda3\\Lib\\site-packages\\sklearn\\metrics\\_classification.py:1344: UndefinedMetricWarning: Precision and F-score are ill-defined and being set to 0.0 in labels with no predicted samples. Use `zero_division` parameter to control this behavior.\n",
      "  _warn_prf(average, modifier, msg_start, len(result))\n",
      "c:\\Users\\002401\\AppData\\Local\\anaconda3\\Lib\\site-packages\\sklearn\\metrics\\_classification.py:1344: UndefinedMetricWarning: Precision and F-score are ill-defined and being set to 0.0 in labels with no predicted samples. Use `zero_division` parameter to control this behavior.\n",
      "  _warn_prf(average, modifier, msg_start, len(result))\n"
     ]
    }
   ],
   "source": [
    "\n",
    "print(classification_report(y_test, y_pred))"
   ]
  },
  {
   "cell_type": "code",
   "execution_count": 136,
   "id": "c7c3d737",
   "metadata": {},
   "outputs": [
    {
     "data": {
      "text/html": [
       "<style>#sk-container-id-9 {color: black;background-color: white;}#sk-container-id-9 pre{padding: 0;}#sk-container-id-9 div.sk-toggleable {background-color: white;}#sk-container-id-9 label.sk-toggleable__label {cursor: pointer;display: block;width: 100%;margin-bottom: 0;padding: 0.3em;box-sizing: border-box;text-align: center;}#sk-container-id-9 label.sk-toggleable__label-arrow:before {content: \"▸\";float: left;margin-right: 0.25em;color: #696969;}#sk-container-id-9 label.sk-toggleable__label-arrow:hover:before {color: black;}#sk-container-id-9 div.sk-estimator:hover label.sk-toggleable__label-arrow:before {color: black;}#sk-container-id-9 div.sk-toggleable__content {max-height: 0;max-width: 0;overflow: hidden;text-align: left;background-color: #f0f8ff;}#sk-container-id-9 div.sk-toggleable__content pre {margin: 0.2em;color: black;border-radius: 0.25em;background-color: #f0f8ff;}#sk-container-id-9 input.sk-toggleable__control:checked~div.sk-toggleable__content {max-height: 200px;max-width: 100%;overflow: auto;}#sk-container-id-9 input.sk-toggleable__control:checked~label.sk-toggleable__label-arrow:before {content: \"▾\";}#sk-container-id-9 div.sk-estimator input.sk-toggleable__control:checked~label.sk-toggleable__label {background-color: #d4ebff;}#sk-container-id-9 div.sk-label input.sk-toggleable__control:checked~label.sk-toggleable__label {background-color: #d4ebff;}#sk-container-id-9 input.sk-hidden--visually {border: 0;clip: rect(1px 1px 1px 1px);clip: rect(1px, 1px, 1px, 1px);height: 1px;margin: -1px;overflow: hidden;padding: 0;position: absolute;width: 1px;}#sk-container-id-9 div.sk-estimator {font-family: monospace;background-color: #f0f8ff;border: 1px dotted black;border-radius: 0.25em;box-sizing: border-box;margin-bottom: 0.5em;}#sk-container-id-9 div.sk-estimator:hover {background-color: #d4ebff;}#sk-container-id-9 div.sk-parallel-item::after {content: \"\";width: 100%;border-bottom: 1px solid gray;flex-grow: 1;}#sk-container-id-9 div.sk-label:hover label.sk-toggleable__label {background-color: #d4ebff;}#sk-container-id-9 div.sk-serial::before {content: \"\";position: absolute;border-left: 1px solid gray;box-sizing: border-box;top: 0;bottom: 0;left: 50%;z-index: 0;}#sk-container-id-9 div.sk-serial {display: flex;flex-direction: column;align-items: center;background-color: white;padding-right: 0.2em;padding-left: 0.2em;position: relative;}#sk-container-id-9 div.sk-item {position: relative;z-index: 1;}#sk-container-id-9 div.sk-parallel {display: flex;align-items: stretch;justify-content: center;background-color: white;position: relative;}#sk-container-id-9 div.sk-item::before, #sk-container-id-9 div.sk-parallel-item::before {content: \"\";position: absolute;border-left: 1px solid gray;box-sizing: border-box;top: 0;bottom: 0;left: 50%;z-index: -1;}#sk-container-id-9 div.sk-parallel-item {display: flex;flex-direction: column;z-index: 1;position: relative;background-color: white;}#sk-container-id-9 div.sk-parallel-item:first-child::after {align-self: flex-end;width: 50%;}#sk-container-id-9 div.sk-parallel-item:last-child::after {align-self: flex-start;width: 50%;}#sk-container-id-9 div.sk-parallel-item:only-child::after {width: 0;}#sk-container-id-9 div.sk-dashed-wrapped {border: 1px dashed gray;margin: 0 0.4em 0.5em 0.4em;box-sizing: border-box;padding-bottom: 0.4em;background-color: white;}#sk-container-id-9 div.sk-label label {font-family: monospace;font-weight: bold;display: inline-block;line-height: 1.2em;}#sk-container-id-9 div.sk-label-container {text-align: center;}#sk-container-id-9 div.sk-container {/* jupyter's `normalize.less` sets `[hidden] { display: none; }` but bootstrap.min.css set `[hidden] { display: none !important; }` so we also need the `!important` here to be able to override the default hidden behavior on the sphinx rendered scikit-learn.org. See: https://github.com/scikit-learn/scikit-learn/issues/21755 */display: inline-block !important;position: relative;}#sk-container-id-9 div.sk-text-repr-fallback {display: none;}</style><div id=\"sk-container-id-9\" class=\"sk-top-container\"><div class=\"sk-text-repr-fallback\"><pre>Pipeline(steps=[(&#x27;preprocessor&#x27;,\n",
       "                 ColumnTransformer(transformers=[(&#x27;num&#x27;, StandardScaler(),\n",
       "                                                  Index([&#x27;Age&#x27;, &#x27;Sleep Hours&#x27;, &#x27;Physical Activity (hrs/week)&#x27;,\n",
       "       &#x27;Caffeine Intake (mg/day)&#x27;, &#x27;Alcohol Consumption (drinks/week)&#x27;,\n",
       "       &#x27;Stress Level (1-10)&#x27;, &#x27;Heart Rate (bpm)&#x27;,\n",
       "       &#x27;Breathing Rate (breaths/min)&#x27;, &#x27;Sweating Level (1-5)&#x27;,\n",
       "       &#x27;Therapy Sessions (per month)&#x27;, &#x27;Diet Quality (1-10)&#x27;],\n",
       "      dtype=&#x27;object&#x27;)),\n",
       "                                                 (&#x27;cat&#x27;,\n",
       "                                                  OneHotEncoder(handle_unknown=&#x27;ignore&#x27;),\n",
       "                                                  Index([&#x27;Gender&#x27;, &#x27;Occupation&#x27;, &#x27;Smoking&#x27;, &#x27;Family History of Anxiety&#x27;,\n",
       "       &#x27;Dizziness&#x27;, &#x27;Medication&#x27;, &#x27;Recent Major Life Event&#x27;],\n",
       "      dtype=&#x27;object&#x27;))])),\n",
       "                (&#x27;smote&#x27;, SMOTE(random_state=42)),\n",
       "                (&#x27;classifier&#x27;,\n",
       "                 RandomForestClassifier(class_weight=&#x27;balanced&#x27;,\n",
       "                                        random_state=42))])</pre><b>In a Jupyter environment, please rerun this cell to show the HTML representation or trust the notebook. <br />On GitHub, the HTML representation is unable to render, please try loading this page with nbviewer.org.</b></div><div class=\"sk-container\" hidden><div class=\"sk-item sk-dashed-wrapped\"><div class=\"sk-label-container\"><div class=\"sk-label sk-toggleable\"><input class=\"sk-toggleable__control sk-hidden--visually\" id=\"sk-estimator-id-65\" type=\"checkbox\" ><label for=\"sk-estimator-id-65\" class=\"sk-toggleable__label sk-toggleable__label-arrow\">Pipeline</label><div class=\"sk-toggleable__content\"><pre>Pipeline(steps=[(&#x27;preprocessor&#x27;,\n",
       "                 ColumnTransformer(transformers=[(&#x27;num&#x27;, StandardScaler(),\n",
       "                                                  Index([&#x27;Age&#x27;, &#x27;Sleep Hours&#x27;, &#x27;Physical Activity (hrs/week)&#x27;,\n",
       "       &#x27;Caffeine Intake (mg/day)&#x27;, &#x27;Alcohol Consumption (drinks/week)&#x27;,\n",
       "       &#x27;Stress Level (1-10)&#x27;, &#x27;Heart Rate (bpm)&#x27;,\n",
       "       &#x27;Breathing Rate (breaths/min)&#x27;, &#x27;Sweating Level (1-5)&#x27;,\n",
       "       &#x27;Therapy Sessions (per month)&#x27;, &#x27;Diet Quality (1-10)&#x27;],\n",
       "      dtype=&#x27;object&#x27;)),\n",
       "                                                 (&#x27;cat&#x27;,\n",
       "                                                  OneHotEncoder(handle_unknown=&#x27;ignore&#x27;),\n",
       "                                                  Index([&#x27;Gender&#x27;, &#x27;Occupation&#x27;, &#x27;Smoking&#x27;, &#x27;Family History of Anxiety&#x27;,\n",
       "       &#x27;Dizziness&#x27;, &#x27;Medication&#x27;, &#x27;Recent Major Life Event&#x27;],\n",
       "      dtype=&#x27;object&#x27;))])),\n",
       "                (&#x27;smote&#x27;, SMOTE(random_state=42)),\n",
       "                (&#x27;classifier&#x27;,\n",
       "                 RandomForestClassifier(class_weight=&#x27;balanced&#x27;,\n",
       "                                        random_state=42))])</pre></div></div></div><div class=\"sk-serial\"><div class=\"sk-item sk-dashed-wrapped\"><div class=\"sk-label-container\"><div class=\"sk-label sk-toggleable\"><input class=\"sk-toggleable__control sk-hidden--visually\" id=\"sk-estimator-id-66\" type=\"checkbox\" ><label for=\"sk-estimator-id-66\" class=\"sk-toggleable__label sk-toggleable__label-arrow\">preprocessor: ColumnTransformer</label><div class=\"sk-toggleable__content\"><pre>ColumnTransformer(transformers=[(&#x27;num&#x27;, StandardScaler(),\n",
       "                                 Index([&#x27;Age&#x27;, &#x27;Sleep Hours&#x27;, &#x27;Physical Activity (hrs/week)&#x27;,\n",
       "       &#x27;Caffeine Intake (mg/day)&#x27;, &#x27;Alcohol Consumption (drinks/week)&#x27;,\n",
       "       &#x27;Stress Level (1-10)&#x27;, &#x27;Heart Rate (bpm)&#x27;,\n",
       "       &#x27;Breathing Rate (breaths/min)&#x27;, &#x27;Sweating Level (1-5)&#x27;,\n",
       "       &#x27;Therapy Sessions (per month)&#x27;, &#x27;Diet Quality (1-10)&#x27;],\n",
       "      dtype=&#x27;object&#x27;)),\n",
       "                                (&#x27;cat&#x27;, OneHotEncoder(handle_unknown=&#x27;ignore&#x27;),\n",
       "                                 Index([&#x27;Gender&#x27;, &#x27;Occupation&#x27;, &#x27;Smoking&#x27;, &#x27;Family History of Anxiety&#x27;,\n",
       "       &#x27;Dizziness&#x27;, &#x27;Medication&#x27;, &#x27;Recent Major Life Event&#x27;],\n",
       "      dtype=&#x27;object&#x27;))])</pre></div></div></div><div class=\"sk-parallel\"><div class=\"sk-parallel-item\"><div class=\"sk-item\"><div class=\"sk-label-container\"><div class=\"sk-label sk-toggleable\"><input class=\"sk-toggleable__control sk-hidden--visually\" id=\"sk-estimator-id-67\" type=\"checkbox\" ><label for=\"sk-estimator-id-67\" class=\"sk-toggleable__label sk-toggleable__label-arrow\">num</label><div class=\"sk-toggleable__content\"><pre>Index([&#x27;Age&#x27;, &#x27;Sleep Hours&#x27;, &#x27;Physical Activity (hrs/week)&#x27;,\n",
       "       &#x27;Caffeine Intake (mg/day)&#x27;, &#x27;Alcohol Consumption (drinks/week)&#x27;,\n",
       "       &#x27;Stress Level (1-10)&#x27;, &#x27;Heart Rate (bpm)&#x27;,\n",
       "       &#x27;Breathing Rate (breaths/min)&#x27;, &#x27;Sweating Level (1-5)&#x27;,\n",
       "       &#x27;Therapy Sessions (per month)&#x27;, &#x27;Diet Quality (1-10)&#x27;],\n",
       "      dtype=&#x27;object&#x27;)</pre></div></div></div><div class=\"sk-serial\"><div class=\"sk-item\"><div class=\"sk-estimator sk-toggleable\"><input class=\"sk-toggleable__control sk-hidden--visually\" id=\"sk-estimator-id-68\" type=\"checkbox\" ><label for=\"sk-estimator-id-68\" class=\"sk-toggleable__label sk-toggleable__label-arrow\">StandardScaler</label><div class=\"sk-toggleable__content\"><pre>StandardScaler()</pre></div></div></div></div></div></div><div class=\"sk-parallel-item\"><div class=\"sk-item\"><div class=\"sk-label-container\"><div class=\"sk-label sk-toggleable\"><input class=\"sk-toggleable__control sk-hidden--visually\" id=\"sk-estimator-id-69\" type=\"checkbox\" ><label for=\"sk-estimator-id-69\" class=\"sk-toggleable__label sk-toggleable__label-arrow\">cat</label><div class=\"sk-toggleable__content\"><pre>Index([&#x27;Gender&#x27;, &#x27;Occupation&#x27;, &#x27;Smoking&#x27;, &#x27;Family History of Anxiety&#x27;,\n",
       "       &#x27;Dizziness&#x27;, &#x27;Medication&#x27;, &#x27;Recent Major Life Event&#x27;],\n",
       "      dtype=&#x27;object&#x27;)</pre></div></div></div><div class=\"sk-serial\"><div class=\"sk-item\"><div class=\"sk-estimator sk-toggleable\"><input class=\"sk-toggleable__control sk-hidden--visually\" id=\"sk-estimator-id-70\" type=\"checkbox\" ><label for=\"sk-estimator-id-70\" class=\"sk-toggleable__label sk-toggleable__label-arrow\">OneHotEncoder</label><div class=\"sk-toggleable__content\"><pre>OneHotEncoder(handle_unknown=&#x27;ignore&#x27;)</pre></div></div></div></div></div></div></div></div><div class=\"sk-item\"><div class=\"sk-estimator sk-toggleable\"><input class=\"sk-toggleable__control sk-hidden--visually\" id=\"sk-estimator-id-71\" type=\"checkbox\" ><label for=\"sk-estimator-id-71\" class=\"sk-toggleable__label sk-toggleable__label-arrow\">SMOTE</label><div class=\"sk-toggleable__content\"><pre>SMOTE(random_state=42)</pre></div></div></div><div class=\"sk-item\"><div class=\"sk-estimator sk-toggleable\"><input class=\"sk-toggleable__control sk-hidden--visually\" id=\"sk-estimator-id-72\" type=\"checkbox\" ><label for=\"sk-estimator-id-72\" class=\"sk-toggleable__label sk-toggleable__label-arrow\">RandomForestClassifier</label><div class=\"sk-toggleable__content\"><pre>RandomForestClassifier(class_weight=&#x27;balanced&#x27;, random_state=42)</pre></div></div></div></div></div></div></div>"
      ],
      "text/plain": [
       "Pipeline(steps=[('preprocessor',\n",
       "                 ColumnTransformer(transformers=[('num', StandardScaler(),\n",
       "                                                  Index(['Age', 'Sleep Hours', 'Physical Activity (hrs/week)',\n",
       "       'Caffeine Intake (mg/day)', 'Alcohol Consumption (drinks/week)',\n",
       "       'Stress Level (1-10)', 'Heart Rate (bpm)',\n",
       "       'Breathing Rate (breaths/min)', 'Sweating Level (1-5)',\n",
       "       'Therapy Sessions (per month)', 'Diet Quality (1-10)'],\n",
       "      dtype='object')),\n",
       "                                                 ('cat',\n",
       "                                                  OneHotEncoder(handle_unknown='ignore'),\n",
       "                                                  Index(['Gender', 'Occupation', 'Smoking', 'Family History of Anxiety',\n",
       "       'Dizziness', 'Medication', 'Recent Major Life Event'],\n",
       "      dtype='object'))])),\n",
       "                ('smote', SMOTE(random_state=42)),\n",
       "                ('classifier',\n",
       "                 RandomForestClassifier(class_weight='balanced',\n",
       "                                        random_state=42))])"
      ]
     },
     "execution_count": 136,
     "metadata": {},
     "output_type": "execute_result"
    }
   ],
   "source": [
    "from imblearn.over_sampling import SMOTE\n",
    "from imblearn.pipeline import Pipeline as ImbPipeline\n",
    "\n",
    "smote_pipeline = ImbPipeline([\n",
    "    ('preprocessor', preprocessing),\n",
    "    ('smote', SMOTE(random_state=42)),\n",
    "    ('classifier', RandomForestClassifier(class_weight='balanced', random_state=42))\n",
    "])\n",
    "\n",
    "smote_pipeline.fit(X_train,y_train)\n"
   ]
  },
  {
   "cell_type": "code",
   "execution_count": 137,
   "id": "ffe321bb",
   "metadata": {},
   "outputs": [
    {
     "data": {
      "text/plain": [
       "0.3513636363636364"
      ]
     },
     "execution_count": 137,
     "metadata": {},
     "output_type": "execute_result"
    }
   ],
   "source": [
    "y_pred2 = smote_pipeline.predict(X_test)\n",
    "test_accuracy2 = accuracy_score(y_test,y_pred2)\n",
    "test_accuracy2"
   ]
  },
  {
   "cell_type": "code",
   "execution_count": null,
   "id": "2810ad88",
   "metadata": {},
   "outputs": [],
   "source": []
  },
  {
   "cell_type": "markdown",
   "id": "4487e9d2",
   "metadata": {},
   "source": [
    "## MODEL BUILDING \n"
   ]
  },
  {
   "cell_type": "code",
   "execution_count": null,
   "id": "f0e04f46",
   "metadata": {},
   "outputs": [],
   "source": []
  },
  {
   "cell_type": "markdown",
   "id": "6a8b73cd",
   "metadata": {},
   "source": [
    "## MODEL INTERPRETATION"
   ]
  },
  {
   "cell_type": "markdown",
   "id": "52af8658",
   "metadata": {},
   "source": [
    "## CONCLUSION "
   ]
  },
  {
   "cell_type": "markdown",
   "id": "331784e8",
   "metadata": {},
   "source": [
    "## NEXT STEPS"
   ]
  },
  {
   "cell_type": "markdown",
   "id": "507000e9",
   "metadata": {},
   "source": []
  }
 ],
 "metadata": {
  "kernelspec": {
   "display_name": "base",
   "language": "python",
   "name": "python3"
  },
  "language_info": {
   "codemirror_mode": {
    "name": "ipython",
    "version": 3
   },
   "file_extension": ".py",
   "mimetype": "text/x-python",
   "name": "python",
   "nbconvert_exporter": "python",
   "pygments_lexer": "ipython3",
   "version": "3.11.7"
  }
 },
 "nbformat": 4,
 "nbformat_minor": 5
}
