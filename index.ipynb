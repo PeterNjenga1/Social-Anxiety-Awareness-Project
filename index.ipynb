{
 "cells": [
  {
   "cell_type": "markdown",
   "id": "a5a924f9",
   "metadata": {},
   "source": [
    "# SOCIAL ANXIETY PREVENTION RECOMMENDER"
   ]
  },
  {
   "cell_type": "markdown",
   "id": "f9bd7e17",
   "metadata": {},
   "source": [
    "## PROBLEM STATEMENT \n",
    "\n",
    "With over 5 million Kenyans struggling with anxiety disorders, MindGuard revolutionizes mental health through an intelligent early-warning system. Using Feedforward Neural Networks to interpret complex behavioral patterns, MindGuard detects anxiety risks and delivers personalized preventative interventions, helping individuals maintain optimal mental wellness before clinical intervention becomes necessary."
   ]
  },
  {
   "cell_type": "markdown",
   "id": "1af8fd3d",
   "metadata": {},
   "source": [
    "## OBJECTIVES\n",
    "\n",
    "1. Can we create an intelligent early-warning system that accurately predicts who is likely to experience anxiety problems, allowing for timely prevention and support?\n",
    "\n",
    "2. How can we provide personalized lifestyle recommendations that are most likely to help individuals reduce their anxiety risk based on their unique profile?\n",
    "\n",
    "3. Which lifestyle factors have the biggest impact on anxiety and how can these insights guide effective prevention strategies and public health initiatives?\n",
    "\n",
    "\n"
   ]
  },
  {
   "cell_type": "markdown",
   "id": "6b57c334",
   "metadata": {},
   "source": [
    "## PLAN OF EXECUTION\n",
    "\n",
    "- EDA \n",
    "- PREPROCESSING\n",
    "- MODEL BUILDING\n",
    "- MODEL INTERPRETATION \n",
    "- DEPLOYMENT\n",
    "\n"
   ]
  },
  {
   "cell_type": "markdown",
   "id": "7ece18c7",
   "metadata": {},
   "source": [
    "## EDA AND PREPROCESSING"
   ]
  },
  {
   "cell_type": "markdown",
   "id": "70a5ac38",
   "metadata": {},
   "source": [
    "### Load Dataset"
   ]
  },
  {
   "cell_type": "code",
   "execution_count": 1,
   "id": "76ff23e3",
   "metadata": {},
   "outputs": [],
   "source": [
    "#import needed libraries and load datasets to be used\n",
    "import pandas as pd\n",
    "from sklearn.pipeline import Pipeline\n",
    "from sklearn.compose import ColumnTransformer\n",
    "from sklearn.preprocessing import StandardScaler\n",
    "from sklearn.model_selection import train_test_split, GridSearchCV, StratifiedKFold\n",
    "from sklearn.ensemble import RandomForestClassifier, RandomForestRegressor\n",
    "from sklearn.linear_model import LogisticRegression\n",
    "from sklearn.model_selection import GridSearchCV\n",
    "import matplotlib.pyplot as plt\n",
    "from sklearn.tree import DecisionTreeClassifier\n",
    "from sklearn.preprocessing import OneHotEncoder\n",
    "from sklearn.impute import SimpleImputer\n",
    "from sklearn.preprocessing import MinMaxScaler\n",
    "from sklearn.metrics import classification_report, accuracy_score\n",
    "from sklearn.ensemble import RandomForestClassifier\n",
    "from sklearn.feature_selection import SelectFromModel\n",
    "\n",
    "\n",
    "enhanced_data = pd.read_csv('enhanced_anxiety_dataset.csv')\n",
    "family_data = pd.read_csv('family_anxiety_14_dataset.csv')\n",
    "\n"
   ]
  },
  {
   "cell_type": "markdown",
   "id": "30b4f392",
   "metadata": {},
   "source": [
    "### Perusing Data\n",
    "\n",
    "\n",
    "Glancing at the dataset and what it entails to help guide on how we will execute our objectives"
   ]
  },
  {
   "cell_type": "code",
   "execution_count": 2,
   "id": "5b8f46e9",
   "metadata": {},
   "outputs": [
    {
     "data": {
      "text/html": [
       "<div>\n",
       "<style scoped>\n",
       "    .dataframe tbody tr th:only-of-type {\n",
       "        vertical-align: middle;\n",
       "    }\n",
       "\n",
       "    .dataframe tbody tr th {\n",
       "        vertical-align: top;\n",
       "    }\n",
       "\n",
       "    .dataframe thead th {\n",
       "        text-align: right;\n",
       "    }\n",
       "</style>\n",
       "<table border=\"1\" class=\"dataframe\">\n",
       "  <thead>\n",
       "    <tr style=\"text-align: right;\">\n",
       "      <th></th>\n",
       "      <th>Age</th>\n",
       "      <th>Gender</th>\n",
       "      <th>Occupation</th>\n",
       "      <th>Sleep Hours</th>\n",
       "      <th>Physical Activity (hrs/week)</th>\n",
       "      <th>Caffeine Intake (mg/day)</th>\n",
       "      <th>Alcohol Consumption (drinks/week)</th>\n",
       "      <th>Smoking</th>\n",
       "      <th>Family History of Anxiety</th>\n",
       "      <th>Stress Level (1-10)</th>\n",
       "      <th>Heart Rate (bpm)</th>\n",
       "      <th>Breathing Rate (breaths/min)</th>\n",
       "      <th>Sweating Level (1-5)</th>\n",
       "      <th>Dizziness</th>\n",
       "      <th>Medication</th>\n",
       "      <th>Therapy Sessions (per month)</th>\n",
       "      <th>Recent Major Life Event</th>\n",
       "      <th>Diet Quality (1-10)</th>\n",
       "      <th>Anxiety Level (1-10)</th>\n",
       "    </tr>\n",
       "  </thead>\n",
       "  <tbody>\n",
       "    <tr>\n",
       "      <th>0</th>\n",
       "      <td>29</td>\n",
       "      <td>Female</td>\n",
       "      <td>Artist</td>\n",
       "      <td>6.0</td>\n",
       "      <td>2.7</td>\n",
       "      <td>181</td>\n",
       "      <td>10</td>\n",
       "      <td>Yes</td>\n",
       "      <td>No</td>\n",
       "      <td>10</td>\n",
       "      <td>114</td>\n",
       "      <td>14</td>\n",
       "      <td>4</td>\n",
       "      <td>No</td>\n",
       "      <td>Yes</td>\n",
       "      <td>3</td>\n",
       "      <td>Yes</td>\n",
       "      <td>7</td>\n",
       "      <td>5.0</td>\n",
       "    </tr>\n",
       "    <tr>\n",
       "      <th>1</th>\n",
       "      <td>46</td>\n",
       "      <td>Other</td>\n",
       "      <td>Nurse</td>\n",
       "      <td>6.2</td>\n",
       "      <td>5.7</td>\n",
       "      <td>200</td>\n",
       "      <td>8</td>\n",
       "      <td>Yes</td>\n",
       "      <td>Yes</td>\n",
       "      <td>1</td>\n",
       "      <td>62</td>\n",
       "      <td>23</td>\n",
       "      <td>2</td>\n",
       "      <td>Yes</td>\n",
       "      <td>No</td>\n",
       "      <td>2</td>\n",
       "      <td>No</td>\n",
       "      <td>8</td>\n",
       "      <td>3.0</td>\n",
       "    </tr>\n",
       "    <tr>\n",
       "      <th>2</th>\n",
       "      <td>64</td>\n",
       "      <td>Male</td>\n",
       "      <td>Other</td>\n",
       "      <td>5.0</td>\n",
       "      <td>3.7</td>\n",
       "      <td>117</td>\n",
       "      <td>4</td>\n",
       "      <td>No</td>\n",
       "      <td>Yes</td>\n",
       "      <td>1</td>\n",
       "      <td>91</td>\n",
       "      <td>28</td>\n",
       "      <td>3</td>\n",
       "      <td>No</td>\n",
       "      <td>No</td>\n",
       "      <td>1</td>\n",
       "      <td>Yes</td>\n",
       "      <td>1</td>\n",
       "      <td>1.0</td>\n",
       "    </tr>\n",
       "    <tr>\n",
       "      <th>3</th>\n",
       "      <td>20</td>\n",
       "      <td>Female</td>\n",
       "      <td>Scientist</td>\n",
       "      <td>5.8</td>\n",
       "      <td>2.8</td>\n",
       "      <td>360</td>\n",
       "      <td>6</td>\n",
       "      <td>Yes</td>\n",
       "      <td>No</td>\n",
       "      <td>4</td>\n",
       "      <td>86</td>\n",
       "      <td>17</td>\n",
       "      <td>3</td>\n",
       "      <td>No</td>\n",
       "      <td>No</td>\n",
       "      <td>0</td>\n",
       "      <td>No</td>\n",
       "      <td>1</td>\n",
       "      <td>2.0</td>\n",
       "    </tr>\n",
       "    <tr>\n",
       "      <th>4</th>\n",
       "      <td>49</td>\n",
       "      <td>Female</td>\n",
       "      <td>Other</td>\n",
       "      <td>8.2</td>\n",
       "      <td>2.3</td>\n",
       "      <td>247</td>\n",
       "      <td>4</td>\n",
       "      <td>Yes</td>\n",
       "      <td>No</td>\n",
       "      <td>1</td>\n",
       "      <td>98</td>\n",
       "      <td>19</td>\n",
       "      <td>4</td>\n",
       "      <td>Yes</td>\n",
       "      <td>Yes</td>\n",
       "      <td>1</td>\n",
       "      <td>No</td>\n",
       "      <td>3</td>\n",
       "      <td>1.0</td>\n",
       "    </tr>\n",
       "  </tbody>\n",
       "</table>\n",
       "</div>"
      ],
      "text/plain": [
       "   Age  Gender Occupation  Sleep Hours  Physical Activity (hrs/week)  \\\n",
       "0   29  Female     Artist          6.0                           2.7   \n",
       "1   46   Other      Nurse          6.2                           5.7   \n",
       "2   64    Male      Other          5.0                           3.7   \n",
       "3   20  Female  Scientist          5.8                           2.8   \n",
       "4   49  Female      Other          8.2                           2.3   \n",
       "\n",
       "   Caffeine Intake (mg/day)  Alcohol Consumption (drinks/week) Smoking  \\\n",
       "0                       181                                 10     Yes   \n",
       "1                       200                                  8     Yes   \n",
       "2                       117                                  4      No   \n",
       "3                       360                                  6     Yes   \n",
       "4                       247                                  4     Yes   \n",
       "\n",
       "  Family History of Anxiety  Stress Level (1-10)  Heart Rate (bpm)  \\\n",
       "0                        No                   10               114   \n",
       "1                       Yes                    1                62   \n",
       "2                       Yes                    1                91   \n",
       "3                        No                    4                86   \n",
       "4                        No                    1                98   \n",
       "\n",
       "   Breathing Rate (breaths/min)  Sweating Level (1-5) Dizziness Medication  \\\n",
       "0                            14                     4        No        Yes   \n",
       "1                            23                     2       Yes         No   \n",
       "2                            28                     3        No         No   \n",
       "3                            17                     3        No         No   \n",
       "4                            19                     4       Yes        Yes   \n",
       "\n",
       "   Therapy Sessions (per month) Recent Major Life Event  Diet Quality (1-10)  \\\n",
       "0                             3                     Yes                    7   \n",
       "1                             2                      No                    8   \n",
       "2                             1                     Yes                    1   \n",
       "3                             0                      No                    1   \n",
       "4                             1                      No                    3   \n",
       "\n",
       "   Anxiety Level (1-10)  \n",
       "0                   5.0  \n",
       "1                   3.0  \n",
       "2                   1.0  \n",
       "3                   2.0  \n",
       "4                   1.0  "
      ]
     },
     "execution_count": 2,
     "metadata": {},
     "output_type": "execute_result"
    }
   ],
   "source": [
    "#Print first rows of enhanced anxiety dataset\n",
    "enhanced_data.head()\n"
   ]
  },
  {
   "cell_type": "code",
   "execution_count": 3,
   "id": "19fbf8c6",
   "metadata": {},
   "outputs": [
    {
     "name": "stdout",
     "output_type": "stream",
     "text": [
      "<class 'pandas.core.frame.DataFrame'>\n",
      "RangeIndex: 11000 entries, 0 to 10999\n",
      "Data columns (total 19 columns):\n",
      " #   Column                             Non-Null Count  Dtype  \n",
      "---  ------                             --------------  -----  \n",
      " 0   Age                                11000 non-null  int64  \n",
      " 1   Gender                             11000 non-null  object \n",
      " 2   Occupation                         11000 non-null  object \n",
      " 3   Sleep Hours                        11000 non-null  float64\n",
      " 4   Physical Activity (hrs/week)       11000 non-null  float64\n",
      " 5   Caffeine Intake (mg/day)           11000 non-null  int64  \n",
      " 6   Alcohol Consumption (drinks/week)  11000 non-null  int64  \n",
      " 7   Smoking                            11000 non-null  object \n",
      " 8   Family History of Anxiety          11000 non-null  object \n",
      " 9   Stress Level (1-10)                11000 non-null  int64  \n",
      " 10  Heart Rate (bpm)                   11000 non-null  int64  \n",
      " 11  Breathing Rate (breaths/min)       11000 non-null  int64  \n",
      " 12  Sweating Level (1-5)               11000 non-null  int64  \n",
      " 13  Dizziness                          11000 non-null  object \n",
      " 14  Medication                         11000 non-null  object \n",
      " 15  Therapy Sessions (per month)       11000 non-null  int64  \n",
      " 16  Recent Major Life Event            11000 non-null  object \n",
      " 17  Diet Quality (1-10)                11000 non-null  int64  \n",
      " 18  Anxiety Level (1-10)               11000 non-null  float64\n",
      "dtypes: float64(3), int64(9), object(7)\n",
      "memory usage: 1.6+ MB\n"
     ]
    }
   ],
   "source": [
    "#Scheme the data types of the enhanced dataset\n",
    "enhanced_data.info()"
   ]
  },
  {
   "cell_type": "code",
   "execution_count": 4,
   "id": "ff65465d",
   "metadata": {},
   "outputs": [
    {
     "data": {
      "text/html": [
       "<div>\n",
       "<style scoped>\n",
       "    .dataframe tbody tr th:only-of-type {\n",
       "        vertical-align: middle;\n",
       "    }\n",
       "\n",
       "    .dataframe tbody tr th {\n",
       "        vertical-align: top;\n",
       "    }\n",
       "\n",
       "    .dataframe thead th {\n",
       "        text-align: right;\n",
       "    }\n",
       "</style>\n",
       "<table border=\"1\" class=\"dataframe\">\n",
       "  <thead>\n",
       "    <tr style=\"text-align: right;\">\n",
       "      <th></th>\n",
       "      <th>Age</th>\n",
       "      <th>Sleep Hours</th>\n",
       "      <th>Physical Activity (hrs/week)</th>\n",
       "      <th>Caffeine Intake (mg/day)</th>\n",
       "      <th>Alcohol Consumption (drinks/week)</th>\n",
       "      <th>Stress Level (1-10)</th>\n",
       "      <th>Heart Rate (bpm)</th>\n",
       "      <th>Breathing Rate (breaths/min)</th>\n",
       "      <th>Sweating Level (1-5)</th>\n",
       "      <th>Therapy Sessions (per month)</th>\n",
       "      <th>Diet Quality (1-10)</th>\n",
       "      <th>Anxiety Level (1-10)</th>\n",
       "    </tr>\n",
       "  </thead>\n",
       "  <tbody>\n",
       "    <tr>\n",
       "      <th>count</th>\n",
       "      <td>11000.000000</td>\n",
       "      <td>11000.000000</td>\n",
       "      <td>11000.000000</td>\n",
       "      <td>11000.000000</td>\n",
       "      <td>11000.000000</td>\n",
       "      <td>11000.000000</td>\n",
       "      <td>11000.000000</td>\n",
       "      <td>11000.000000</td>\n",
       "      <td>11000.000000</td>\n",
       "      <td>11000.000000</td>\n",
       "      <td>11000.000000</td>\n",
       "      <td>11000.000000</td>\n",
       "    </tr>\n",
       "    <tr>\n",
       "      <th>mean</th>\n",
       "      <td>40.241727</td>\n",
       "      <td>6.650691</td>\n",
       "      <td>2.942136</td>\n",
       "      <td>286.090000</td>\n",
       "      <td>9.701636</td>\n",
       "      <td>5.856364</td>\n",
       "      <td>90.916000</td>\n",
       "      <td>20.957545</td>\n",
       "      <td>3.080636</td>\n",
       "      <td>2.427818</td>\n",
       "      <td>5.181818</td>\n",
       "      <td>3.929364</td>\n",
       "    </tr>\n",
       "    <tr>\n",
       "      <th>std</th>\n",
       "      <td>13.236140</td>\n",
       "      <td>1.227509</td>\n",
       "      <td>1.827825</td>\n",
       "      <td>144.813157</td>\n",
       "      <td>5.689713</td>\n",
       "      <td>2.927202</td>\n",
       "      <td>17.325721</td>\n",
       "      <td>5.160107</td>\n",
       "      <td>1.398877</td>\n",
       "      <td>2.183106</td>\n",
       "      <td>2.895243</td>\n",
       "      <td>2.122533</td>\n",
       "    </tr>\n",
       "    <tr>\n",
       "      <th>min</th>\n",
       "      <td>18.000000</td>\n",
       "      <td>2.300000</td>\n",
       "      <td>0.000000</td>\n",
       "      <td>0.000000</td>\n",
       "      <td>0.000000</td>\n",
       "      <td>1.000000</td>\n",
       "      <td>60.000000</td>\n",
       "      <td>12.000000</td>\n",
       "      <td>1.000000</td>\n",
       "      <td>0.000000</td>\n",
       "      <td>1.000000</td>\n",
       "      <td>1.000000</td>\n",
       "    </tr>\n",
       "    <tr>\n",
       "      <th>25%</th>\n",
       "      <td>29.000000</td>\n",
       "      <td>5.900000</td>\n",
       "      <td>1.500000</td>\n",
       "      <td>172.000000</td>\n",
       "      <td>5.000000</td>\n",
       "      <td>3.000000</td>\n",
       "      <td>76.000000</td>\n",
       "      <td>17.000000</td>\n",
       "      <td>2.000000</td>\n",
       "      <td>1.000000</td>\n",
       "      <td>3.000000</td>\n",
       "      <td>2.000000</td>\n",
       "    </tr>\n",
       "    <tr>\n",
       "      <th>50%</th>\n",
       "      <td>40.000000</td>\n",
       "      <td>6.700000</td>\n",
       "      <td>2.800000</td>\n",
       "      <td>273.000000</td>\n",
       "      <td>10.000000</td>\n",
       "      <td>6.000000</td>\n",
       "      <td>92.000000</td>\n",
       "      <td>21.000000</td>\n",
       "      <td>3.000000</td>\n",
       "      <td>2.000000</td>\n",
       "      <td>5.000000</td>\n",
       "      <td>4.000000</td>\n",
       "    </tr>\n",
       "    <tr>\n",
       "      <th>75%</th>\n",
       "      <td>51.000000</td>\n",
       "      <td>7.500000</td>\n",
       "      <td>4.200000</td>\n",
       "      <td>382.000000</td>\n",
       "      <td>15.000000</td>\n",
       "      <td>8.000000</td>\n",
       "      <td>106.000000</td>\n",
       "      <td>25.000000</td>\n",
       "      <td>4.000000</td>\n",
       "      <td>4.000000</td>\n",
       "      <td>8.000000</td>\n",
       "      <td>5.000000</td>\n",
       "    </tr>\n",
       "    <tr>\n",
       "      <th>max</th>\n",
       "      <td>64.000000</td>\n",
       "      <td>11.300000</td>\n",
       "      <td>10.100000</td>\n",
       "      <td>599.000000</td>\n",
       "      <td>19.000000</td>\n",
       "      <td>10.000000</td>\n",
       "      <td>119.000000</td>\n",
       "      <td>29.000000</td>\n",
       "      <td>5.000000</td>\n",
       "      <td>12.000000</td>\n",
       "      <td>10.000000</td>\n",
       "      <td>10.000000</td>\n",
       "    </tr>\n",
       "  </tbody>\n",
       "</table>\n",
       "</div>"
      ],
      "text/plain": [
       "                Age   Sleep Hours  Physical Activity (hrs/week)  \\\n",
       "count  11000.000000  11000.000000                  11000.000000   \n",
       "mean      40.241727      6.650691                      2.942136   \n",
       "std       13.236140      1.227509                      1.827825   \n",
       "min       18.000000      2.300000                      0.000000   \n",
       "25%       29.000000      5.900000                      1.500000   \n",
       "50%       40.000000      6.700000                      2.800000   \n",
       "75%       51.000000      7.500000                      4.200000   \n",
       "max       64.000000     11.300000                     10.100000   \n",
       "\n",
       "       Caffeine Intake (mg/day)  Alcohol Consumption (drinks/week)  \\\n",
       "count              11000.000000                       11000.000000   \n",
       "mean                 286.090000                           9.701636   \n",
       "std                  144.813157                           5.689713   \n",
       "min                    0.000000                           0.000000   \n",
       "25%                  172.000000                           5.000000   \n",
       "50%                  273.000000                          10.000000   \n",
       "75%                  382.000000                          15.000000   \n",
       "max                  599.000000                          19.000000   \n",
       "\n",
       "       Stress Level (1-10)  Heart Rate (bpm)  Breathing Rate (breaths/min)  \\\n",
       "count         11000.000000      11000.000000                  11000.000000   \n",
       "mean              5.856364         90.916000                     20.957545   \n",
       "std               2.927202         17.325721                      5.160107   \n",
       "min               1.000000         60.000000                     12.000000   \n",
       "25%               3.000000         76.000000                     17.000000   \n",
       "50%               6.000000         92.000000                     21.000000   \n",
       "75%               8.000000        106.000000                     25.000000   \n",
       "max              10.000000        119.000000                     29.000000   \n",
       "\n",
       "       Sweating Level (1-5)  Therapy Sessions (per month)  \\\n",
       "count          11000.000000                  11000.000000   \n",
       "mean               3.080636                      2.427818   \n",
       "std                1.398877                      2.183106   \n",
       "min                1.000000                      0.000000   \n",
       "25%                2.000000                      1.000000   \n",
       "50%                3.000000                      2.000000   \n",
       "75%                4.000000                      4.000000   \n",
       "max                5.000000                     12.000000   \n",
       "\n",
       "       Diet Quality (1-10)  Anxiety Level (1-10)  \n",
       "count         11000.000000          11000.000000  \n",
       "mean              5.181818              3.929364  \n",
       "std               2.895243              2.122533  \n",
       "min               1.000000              1.000000  \n",
       "25%               3.000000              2.000000  \n",
       "50%               5.000000              4.000000  \n",
       "75%               8.000000              5.000000  \n",
       "max              10.000000             10.000000  "
      ]
     },
     "execution_count": 4,
     "metadata": {},
     "output_type": "execute_result"
    }
   ],
   "source": [
    "#Summary stats for enhanced dataset\n",
    "enhanced_data.describe()"
   ]
  },
  {
   "cell_type": "code",
   "execution_count": 5,
   "id": "8f869d66",
   "metadata": {},
   "outputs": [
    {
     "data": {
      "text/plain": [
       "Age                                  0\n",
       "Gender                               0\n",
       "Occupation                           0\n",
       "Sleep Hours                          0\n",
       "Physical Activity (hrs/week)         0\n",
       "Caffeine Intake (mg/day)             0\n",
       "Alcohol Consumption (drinks/week)    0\n",
       "Smoking                              0\n",
       "Family History of Anxiety            0\n",
       "Stress Level (1-10)                  0\n",
       "Heart Rate (bpm)                     0\n",
       "Breathing Rate (breaths/min)         0\n",
       "Sweating Level (1-5)                 0\n",
       "Dizziness                            0\n",
       "Medication                           0\n",
       "Therapy Sessions (per month)         0\n",
       "Recent Major Life Event              0\n",
       "Diet Quality (1-10)                  0\n",
       "Anxiety Level (1-10)                 0\n",
       "dtype: int64"
      ]
     },
     "execution_count": 5,
     "metadata": {},
     "output_type": "execute_result"
    }
   ],
   "source": [
    "#Check for missing values\n",
    "enhanced_data.isnull().sum()"
   ]
  },
  {
   "cell_type": "markdown",
   "id": "5bdfbd26",
   "metadata": {},
   "source": [
    "### Preprocessing pipelines and Modeling using ensemble methods \n",
    "\n",
    "This defined broke down the features into 2 Feature categories. We then proceeded to carrying out Preprocessing and Modeling using Random Forest based on the Objectives of the project"
   ]
  },
  {
   "cell_type": "code",
   "execution_count": 6,
   "id": "f9734631",
   "metadata": {},
   "outputs": [],
   "source": [
    "#Define feature categories\n",
    "ls_features = ['Age', 'Gender', 'Occupation',\n",
    "    'Sleep Hours', 'Physical Activity (hrs/week)', \n",
    "    'Caffeine Intake (mg/day)', 'Alcohol Consumption (drinks/week)',\n",
    "    'Smoking', 'Family History of Anxiety', 'Stress Level (1-10)',  'Recent Major Life Event',\n",
    "    'Diet Quality (1-10)'\n",
    "]\n",
    "physiological_features = ['Heart Rate (bpm)', 'Breathing Rate (breaths/min)', 'Sweating Level (1-5)','Dizziness']\n",
    "\n",
    "all_features = ls_features + physiological_features"
   ]
  },
  {
   "cell_type": "code",
   "execution_count": 7,
   "id": "d8849612",
   "metadata": {},
   "outputs": [
    {
     "name": "stdout",
     "output_type": "stream",
     "text": [
      "<class 'pandas.core.frame.DataFrame'>\n",
      "RangeIndex: 11000 entries, 0 to 10999\n",
      "Data columns (total 16 columns):\n",
      " #   Column                             Non-Null Count  Dtype  \n",
      "---  ------                             --------------  -----  \n",
      " 0   Age                                11000 non-null  int64  \n",
      " 1   Gender                             11000 non-null  object \n",
      " 2   Occupation                         11000 non-null  object \n",
      " 3   Sleep Hours                        11000 non-null  float64\n",
      " 4   Physical Activity (hrs/week)       11000 non-null  float64\n",
      " 5   Caffeine Intake (mg/day)           11000 non-null  int64  \n",
      " 6   Alcohol Consumption (drinks/week)  11000 non-null  int64  \n",
      " 7   Smoking                            11000 non-null  object \n",
      " 8   Family History of Anxiety          11000 non-null  object \n",
      " 9   Stress Level (1-10)                11000 non-null  int64  \n",
      " 10  Recent Major Life Event            11000 non-null  object \n",
      " 11  Diet Quality (1-10)                11000 non-null  int64  \n",
      " 12  Heart Rate (bpm)                   11000 non-null  int64  \n",
      " 13  Breathing Rate (breaths/min)       11000 non-null  int64  \n",
      " 14  Sweating Level (1-5)               11000 non-null  int64  \n",
      " 15  Dizziness                          11000 non-null  object \n",
      "dtypes: float64(2), int64(8), object(6)\n",
      "memory usage: 1.3+ MB\n"
     ]
    }
   ],
   "source": [
    "enhanced_data[all_features].info()"
   ]
  },
  {
   "cell_type": "code",
   "execution_count": 8,
   "id": "48818ca4",
   "metadata": {},
   "outputs": [],
   "source": [
    "#Split data into features and target variable\n",
    "anxiety_thresh = 5\n",
    "X_lifestyle= enhanced_data[ls_features].copy()\n",
    "X = enhanced_data[all_features].copy()\n",
    "\n",
    "y_bin = (enhanced_data['Anxiety Level (1-10)'] >= anxiety_thresh).astype(int)\n",
    "y = enhanced_data['Anxiety Level (1-10)'].values\n",
    "\n"
   ]
  },
  {
   "cell_type": "code",
   "execution_count": 9,
   "id": "d46835a3",
   "metadata": {},
   "outputs": [
    {
     "name": "stdout",
     "output_type": "stream",
     "text": [
      "<class 'pandas.core.frame.DataFrame'>\n",
      "RangeIndex: 11000 entries, 0 to 10999\n",
      "Data columns (total 16 columns):\n",
      " #   Column                             Non-Null Count  Dtype  \n",
      "---  ------                             --------------  -----  \n",
      " 0   Age                                11000 non-null  int64  \n",
      " 1   Gender                             11000 non-null  object \n",
      " 2   Occupation                         11000 non-null  object \n",
      " 3   Sleep Hours                        11000 non-null  float64\n",
      " 4   Physical Activity (hrs/week)       11000 non-null  float64\n",
      " 5   Caffeine Intake (mg/day)           11000 non-null  int64  \n",
      " 6   Alcohol Consumption (drinks/week)  11000 non-null  int64  \n",
      " 7   Smoking                            11000 non-null  object \n",
      " 8   Family History of Anxiety          11000 non-null  object \n",
      " 9   Stress Level (1-10)                11000 non-null  int64  \n",
      " 10  Recent Major Life Event            11000 non-null  object \n",
      " 11  Diet Quality (1-10)                11000 non-null  int64  \n",
      " 12  Heart Rate (bpm)                   11000 non-null  int64  \n",
      " 13  Breathing Rate (breaths/min)       11000 non-null  int64  \n",
      " 14  Sweating Level (1-5)               11000 non-null  int64  \n",
      " 15  Dizziness                          11000 non-null  object \n",
      "dtypes: float64(2), int64(8), object(6)\n",
      "memory usage: 1.3+ MB\n"
     ]
    }
   ],
   "source": [
    "X.info()"
   ]
  },
  {
   "cell_type": "code",
   "execution_count": 10,
   "id": "a0750452",
   "metadata": {},
   "outputs": [],
   "source": [
    "#Identify Categorical and numerical features\n",
    "categorical_features = X.select_dtypes(include=['object']).columns\n",
    "num_features = X.select_dtypes(include=['int64', 'float64']).columns"
   ]
  },
  {
   "cell_type": "code",
   "execution_count": 11,
   "id": "45a739f6",
   "metadata": {},
   "outputs": [
    {
     "name": "stdout",
     "output_type": "stream",
     "text": [
      "Numerical transformer: ['Age', 'Sleep Hours', 'Physical Activity (hrs/week)', 'Caffeine Intake (mg/day)', 'Alcohol Consumption (drinks/week)', 'Stress Level (1-10)', 'Diet Quality (1-10)', 'Heart Rate (bpm)', 'Breathing Rate (breaths/min)', 'Sweating Level (1-5)']\n",
      "Categorical transformer: ['Gender', 'Occupation', 'Smoking', 'Family History of Anxiety', 'Recent Major Life Event', 'Dizziness']\n"
     ]
    }
   ],
   "source": [
    "print(\"Numerical transformer:\", num_features.tolist())\n",
    "print(\"Categorical transformer:\", categorical_features.tolist())"
   ]
  },
  {
   "cell_type": "code",
   "execution_count": 12,
   "id": "f62d9eef",
   "metadata": {},
   "outputs": [],
   "source": [
    "# Define preprocessing steps for numerical and categorical features\n",
    "\n",
    "\n",
    "early_preprocessing = ColumnTransformer(\n",
    "    transformers=[ ('num', StandardScaler(), num_features),\n",
    "        ('cat', OneHotEncoder(handle_unknown='ignore'), categorical_features)\n",
    "    ],\n",
    ")\n"
   ]
  },
  {
   "cell_type": "code",
   "execution_count": 13,
   "id": "56066df8",
   "metadata": {},
   "outputs": [],
   "source": [
    "#Split the data into training and testing sets\n",
    "X_train_rf,X_test_rf,y_train_bin_rf,y_test_bin_rf = train_test_split(X_lifestyle,y_bin, test_size=0.2, random_state=42, stratify=y_bin)\n"
   ]
  },
  {
   "cell_type": "code",
   "execution_count": 14,
   "id": "f16d32cb",
   "metadata": {},
   "outputs": [],
   "source": [
    "\n",
    "X_train_all,X_test_all,y_train_all,y_test_all = train_test_split(X,y, test_size=0.2, random_state=42)"
   ]
  },
  {
   "cell_type": "code",
   "execution_count": 15,
   "id": "6bea1471",
   "metadata": {},
   "outputs": [
    {
     "name": "stdout",
     "output_type": "stream",
     "text": [
      "Available columns in X_train_rf:\n",
      "['Age', 'Gender', 'Occupation', 'Sleep Hours', 'Physical Activity (hrs/week)', 'Caffeine Intake (mg/day)', 'Alcohol Consumption (drinks/week)', 'Smoking', 'Family History of Anxiety', 'Stress Level (1-10)', 'Recent Major Life Event', 'Diet Quality (1-10)']\n"
     ]
    }
   ],
   "source": [
    "print(\"Available columns in X_train_rf:\")\n",
    "print(X_train_rf.columns.tolist())"
   ]
  },
  {
   "cell_type": "code",
   "execution_count": null,
   "id": "1b3027ce",
   "metadata": {},
   "outputs": [],
   "source": [
    "# Objective 1: Early Detection of Anxiety using Random Forest Classifier\n",
    "# Create a pipeline with preprocessing and classifier\n",
    "early_pip =Pipeline([\n",
    "    ('preprocessing', early_preprocessing),\n",
    "    ('classifier', RandomForestClassifier(n_estimators=200, \n",
    "     max_depth=15, min_samples_split=5, random_state=42, class_weight='balanced'))\n",
    "])\n",
    "\n",
    "early_pip.fit(X_train_rf, y_test_bin_rf)\n",
    "early_pred = early_pip.predict(X_test_rf)\n",
    "early_acc= accuracy_score(y_test_bin_rf,early_pred)\n"
   ]
  },
  {
   "cell_type": "code",
   "execution_count": 19,
   "id": "3966b36f",
   "metadata": {},
   "outputs": [
    {
     "name": "stdout",
     "output_type": "stream",
     "text": [
      "RF Early Detection Accuracy:  0.8218\n",
      "              precision    recall  f1-score   support\n",
      "\n",
      " Low Anxiety       0.87      0.88      0.87      1524\n",
      "High Anxiety       0.72      0.70      0.71       676\n",
      "\n",
      "    accuracy                           0.82      2200\n",
      "   macro avg       0.79      0.79      0.79      2200\n",
      "weighted avg       0.82      0.82      0.82      2200\n",
      "\n"
     ]
    }
   ],
   "source": [
    "print(f\"RF Early Detection Accuracy: {early_acc: .4f}\")\n",
    "print(classification_report(y_test_bin_rf,early_pred, target_names=['Low Anxiety', 'High Anxiety']))"
   ]
  },
  {
   "cell_type": "code",
   "execution_count": 20,
   "id": "b5473717",
   "metadata": {},
   "outputs": [],
   "source": [
    "\n",
    "# Create a pipeline with preprocessing and classifier\n",
    "rf_rec_pipeline = Pipeline([\n",
    "\t('preprocessing', early_preprocessing),\n",
    "\t('classifier', RandomForestRegressor(random_state=42, n_estimators=200, max_depth=20, min_samples_split=2))\n",
    "])\n",
    "\n"
   ]
  },
  {
   "cell_type": "code",
   "execution_count": 21,
   "id": "aec07e57",
   "metadata": {},
   "outputs": [],
   "source": [
    "#Objective 2: Personalized recommendations for anxiety management\n",
    "import numpy as np\n",
    "from sklearn.metrics import mean_squared_error, r2_score\n",
    "\n",
    "#Fit the pipeline to the training data\n",
    "rf_rec_pipeline.fit(X_train_all,y_train_all)\n",
    "\n",
    "#Test predictions and evaluate the model\n",
    "y_pred = rf_rec_pipeline.predict(X_test_all)\n",
    "\n",
    "#Evaluate model performance\n",
    "rf_rmse = np.sqrt(mean_squared_error(y_test_all, y_pred))\n",
    "r2 = r2_score(y_test_all, y_pred)"
   ]
  },
  {
   "cell_type": "code",
   "execution_count": 22,
   "id": "a564bd38",
   "metadata": {},
   "outputs": [
    {
     "name": "stdout",
     "output_type": "stream",
     "text": [
      "RF Regression RMSE:  1.0344\n",
      "RF Regression R^2:  0.7691\n"
     ]
    }
   ],
   "source": [
    "print(f\"RF Regression RMSE: {rf_rmse: .4f}\")\n",
    "print(f\"RF Regression R^2: {r2: .4f}\")"
   ]
  },
  {
   "cell_type": "code",
   "execution_count": 23,
   "id": "a82422f0",
   "metadata": {},
   "outputs": [],
   "source": [
    "#Objective 3: Lifestyle Analysis\n",
    "rf_feature_names = (list(num_features) + list(early_preprocessing.named_transformers_['cat'].get_feature_names_out(categorical_features)))"
   ]
  },
  {
   "cell_type": "code",
   "execution_count": 25,
   "id": "a59767e7",
   "metadata": {},
   "outputs": [],
   "source": [
    "rf_importance = rf_rec_pipeline.named_steps['classifier'].feature_importances_\n",
    "\n",
    "rf_importance_df = pd.DataFrame({'feature' : rf_feature_names,\n",
    "                                 'importance': rf_importance}).sort_values('importance', ascending=False)"
   ]
  },
  {
   "cell_type": "code",
   "execution_count": 26,
   "id": "af3cc0ba",
   "metadata": {},
   "outputs": [
    {
     "name": "stdout",
     "output_type": "stream",
     "text": [
      "Top 10 RF Feature Importances:\n",
      "                             feature  importance\n",
      "5                Stress Level (1-10)    0.472745\n",
      "1                        Sleep Hours    0.224334\n",
      "3           Caffeine Intake (mg/day)    0.078248\n",
      "6                Diet Quality (1-10)    0.040395\n",
      "2       Physical Activity (hrs/week)    0.029193\n",
      "7                   Heart Rate (bpm)    0.027434\n",
      "0                                Age    0.025206\n",
      "4  Alcohol Consumption (drinks/week)    0.019141\n",
      "8       Breathing Rate (breaths/min)    0.018611\n",
      "9               Sweating Level (1-5)    0.014937\n"
     ]
    }
   ],
   "source": [
    "print(\"Top 10 RF Feature Importances:\")\n",
    "print(rf_importance_df.head(10))\n"
   ]
  },
  {
   "cell_type": "code",
   "execution_count": 28,
   "id": "1c189fa5",
   "metadata": {},
   "outputs": [
    {
     "data": {
      "text/plain": [
       "<Axes: ylabel='feature'>"
      ]
     },
     "execution_count": 28,
     "metadata": {},
     "output_type": "execute_result"
    },
    {
     "data": {
      "image/png": "[encoded data removed]",
      "text/plain": [
       "<Figure size 1000x800 with 1 Axes>"
      ]
     },
     "metadata": {},
     "output_type": "display_data"
    }
   ],
   "source": [
    "#Visualize feature importances\n",
    "fig, ax = plt.subplots(figsize=(10, 8))\n",
    "axes = [ax]\n",
    "\n",
    "rf_importance_df.head(10).plot(kind='barh', x='feature', y='importance', ax=axes[0], legend=False)\n",
    "\n",
    "\n"
   ]
  },
  {
   "cell_type": "code",
   "execution_count": 33,
   "id": "965ccc4b",
   "metadata": {},
   "outputs": [],
   "source": [
    "#Random Forest Performance Summary\n",
    "rf_metrics = ['Early Warning\\nAccuracy', 'Regression\\nRMSE', 'Regression\\nR²']\n",
    "rf_values = [early_acc, rf_rmse, r2]\n",
    "colors = ['lightblue', 'lightcoral', 'lightgreen']"
   ]
  },
  {
   "cell_type": "code",
   "execution_count": 36,
   "id": "32f1ab6e",
   "metadata": {},
   "outputs": [
    {
     "data": {
      "image/png": "[encoded data removed]",
      "text/plain": [
       "<Figure size 600x500 with 1 Axes>"
      ]
     },
     "metadata": {},
     "output_type": "display_data"
    }
   ],
   "source": [
    "fig_perf, ax_perf = plt.subplots(figsize=(6, 5))\n",
    "bars = ax_perf.bar(rf_metrics, rf_values, color=colors)\n",
    "ax_perf.set_title('Random Forest Performance Summary')\n",
    "ax_perf.set_ylabel('Score')\n",
    "plt.show()"
   ]
  },
  {
   "cell_type": "code",
   "execution_count": 29,
   "id": "06ba9d94",
   "metadata": {},
   "outputs": [
    {
     "name": "stdout",
     "output_type": "stream",
     "text": [
      "RF Early Detection Accuracy:  0.8218\n",
      "              precision    recall  f1-score   support\n",
      "\n",
      " Low Anxiety       0.87      0.88      0.87      1524\n",
      "High Anxiety       0.72      0.70      0.71       676\n",
      "\n",
      "    accuracy                           0.82      2200\n",
      "   macro avg       0.79      0.79      0.79      2200\n",
      "weighted avg       0.82      0.82      0.82      2200\n",
      "\n",
      "Top 10 RF Feature Importances:\n",
      "                             feature  importance\n",
      "5                Stress Level (1-10)    0.472745\n",
      "1                        Sleep Hours    0.224334\n",
      "3           Caffeine Intake (mg/day)    0.078248\n",
      "6                Diet Quality (1-10)    0.040395\n",
      "2       Physical Activity (hrs/week)    0.029193\n",
      "7                   Heart Rate (bpm)    0.027434\n",
      "0                                Age    0.025206\n",
      "4  Alcohol Consumption (drinks/week)    0.019141\n",
      "8       Breathing Rate (breaths/min)    0.018611\n",
      "9               Sweating Level (1-5)    0.014937\n"
     ]
    }
   ],
   "source": [
    "#Performance summary\n",
    "print(f\"RF Early Detection Accuracy: {early_acc: .4f}\")\n",
    "print(classification_report(y_test_bin_rf,early_pred, target_names=['Low Anxiety', 'High Anxiety']))\n",
    "print(\"Top 10 RF Feature Importances:\")\n",
    "print(rf_importance_df.head(10))\n",
    "\n"
   ]
  },
  {
   "cell_type": "markdown",
   "id": "4487e9d2",
   "metadata": {},
   "source": [
    "## MODEL BUILDING \n"
   ]
  },
  {
   "cell_type": "code",
   "execution_count": null,
   "id": "f0e04f46",
   "metadata": {},
   "outputs": [],
   "source": []
  },
  {
   "cell_type": "markdown",
   "id": "6a8b73cd",
   "metadata": {},
   "source": [
    "## MODEL INTERPRETATION"
   ]
  },
  {
   "cell_type": "markdown",
   "id": "52af8658",
   "metadata": {},
   "source": [
    "## CONCLUSION "
   ]
  },
  {
   "cell_type": "markdown",
   "id": "331784e8",
   "metadata": {},
   "source": [
    "## NEXT STEPS"
   ]
  },
  {
   "cell_type": "markdown",
   "id": "507000e9",
   "metadata": {},
   "source": []
  }
 ],
 "metadata": {
  "kernelspec": {
   "display_name": "base",
   "language": "python",
   "name": "python3"
  },
  "language_info": {
   "codemirror_mode": {
    "name": "ipython",
    "version": 3
   },
   "file_extension": ".py",
   "mimetype": "text/x-python",
   "name": "python",
   "nbconvert_exporter": "python",
   "pygments_lexer": "ipython3",
   "version": "3.11.7"
  }
 },
 "nbformat": 4,
 "nbformat_minor": 5
}
